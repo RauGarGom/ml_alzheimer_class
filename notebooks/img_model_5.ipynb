{
 "cells": [
  {
   "cell_type": "code",
   "execution_count": null,
   "metadata": {},
   "outputs": [],
   "source": [
    "import numpy as np\n",
    "import pandas as pd\n",
    "# from skimage import imread\n",
    "from matplotlib.image import imread\n",
    "import plotly.express as px\n",
    "import matplotlib.pyplot as plt\n",
    "import os\n",
    "import cv2\n",
    "import random\n",
    "import pickle\n",
    "from sklearn.metrics import confusion_matrix, recall_score, roc_auc_score\n",
    "from sklearn.model_selection import train_test_split\n",
    "from tensorflow.keras.preprocessing.image import ImageDataGenerator\n",
    "from tensorflow.keras import layers, models,callbacks,metrics,backend\n",
    "from tensorflow.keras.optimizers import RMSprop\n",
    "import sys\n",
    "import seaborn as sns\n",
    "from sklearn.preprocessing import StandardScaler\n",
    "from sklearn.preprocessing import LabelEncoder\n",
    "# sys.path.append(os.path.abspath(r'C:\\Users\\raulg\\Documents\\THEBRIDGE_DS\\0.-Repo_Git\\ml_alzheimer_class\\src'))\n",
    "sys.path.append(os.path.relpath('../src'))\n",
    "import utils as ut\n",
    "import evaluation as ev\n",
    "import math\n"
   ]
  },
  {
   "cell_type": "code",
   "execution_count": null,
   "metadata": {},
   "outputs": [],
   "source": [
    "# model5 = models.load_model(\"../models/image/model_5.keras\")\n",
    "x1_train,x1_test,x1_val,y1_train,y1_test,y1_val,scal = ut.img_images_load('../data/images/processed_train/x1_64.pkl','../data/images/processed_train/y1_64.pkl',\n",
    "                                                                     '../data/images/processed_val/x2_64.pkl','../data/images/processed_val/y2_64.pkl',\n",
    "                                                                     val_set = True,reshuffle=True,img_size=64)\n"
   ]
  },
  {
   "cell_type": "code",
   "execution_count": null,
   "metadata": {},
   "outputs": [],
   "source": [
    "### COMP TIME: 23 minutes\n",
    "model4c = models.Sequential()\n",
    "model4c.add(layers.Conv2D(128, (3, 3), activation='relu', input_shape=(64, 64, 1)))\n",
    "model4c.add(layers.Dropout(0.5))  # Dropout so overfitting is reduced\n",
    "model4c.add(layers.MaxPooling2D((2, 2)))\n",
    "model4c.add(layers.Conv2D(64, (3, 3), activation='relu'))\n",
    "model4c.add(layers.MaxPooling2D((2, 2)))\n",
    "model4c.add(layers.Flatten())\n",
    "\n",
    "# Capa densa con Dropout\n",
    "model4c.add(layers.Dense(64, activation='relu'))\n",
    "model4c.add(layers.Dropout(0.5))  # Dropout so overfitting is reduced\n",
    "\n",
    "model4c.add(layers.Dense(4, activation='softmax'))\n",
    "\n",
    "# Compilar el modelo\n",
    "model4c.compile(optimizer=RMSprop(learning_rate=0.001),\n",
    "              loss='sparse_categorical_crossentropy', #sparse_categorical_crossentropy\n",
    "              metrics=['accuracy'])\n",
    "\n",
    "model4c.fit(x1_train,y1_train,batch_size=128,epochs=70,validation_data=(x1_val,y1_val), callbacks=callbacks.EarlyStopping(patience=5)\n",
    "          )"
   ]
  },
  {
   "cell_type": "code",
   "execution_count": null,
   "metadata": {},
   "outputs": [],
   "source": [
    "y1_pred = model4c.predict(x1_test).argmax(axis=1)"
   ]
  }
 ],
 "metadata": {
  "kernelspec": {
   "display_name": "Python 3",
   "language": "python",
   "name": "python3"
  },
  "language_info": {
   "name": "python",
   "version": "3.12.5"
  }
 },
 "nbformat": 4,
 "nbformat_minor": 2
}
