{
 "cells": [
  {
   "cell_type": "code",
   "execution_count": 1,
   "metadata": {},
   "outputs": [],
   "source": [
    "import numpy as np\n",
    "import pandas as pd\n",
    "# from skimage import imread\n",
    "from matplotlib.image import imread\n",
    "import plotly.express as px\n",
    "import matplotlib.pyplot as plt\n",
    "import os\n",
    "import cv2\n",
    "import random\n",
    "import pickle\n",
    "from sklearn.metrics import confusion_matrix, recall_score, roc_auc_score\n",
    "from sklearn.model_selection import train_test_split\n",
    "from tensorflow.keras.preprocessing.image import ImageDataGenerator\n",
    "from tensorflow.keras import layers, models,callbacks,metrics,backend\n",
    "from tensorflow.keras.optimizers import RMSprop\n",
    "import sys\n",
    "import seaborn as sns\n",
    "from sklearn.preprocessing import StandardScaler\n",
    "from sklearn.preprocessing import LabelEncoder\n",
    "# sys.path.append(os.path.abspath(r'C:\\Users\\raulg\\Documents\\THEBRIDGE_DS\\0.-Repo_Git\\ml_alzheimer_class\\src'))\n",
    "sys.path.append(os.path.relpath('../src'))\n",
    "import utils as ut\n",
    "import evaluation as ev\n",
    "import math\n"
   ]
  },
  {
   "cell_type": "code",
   "execution_count": 2,
   "metadata": {},
   "outputs": [
    {
     "name": "stdout",
     "output_type": "stream",
     "text": [
      "x1_train shape (34326, 64, 64, 1)\n",
      "x1_test shape (6058, 64, 64, 1)\n",
      "y1_train shape (34326,)\n",
      "y1_test shape (6058,)\n",
      "y1_train distribution: \n",
      " [[    0 10880]\n",
      " [    1  9520]\n",
      " [    2  8377]\n",
      " [    3  5549]]\n",
      "y1_test distribution: \n",
      " [[   0 1920]\n",
      " [   1 1680]\n",
      " [   2 1479]\n",
      " [   3  979]]\n",
      "x1_val shape (6866, 64, 64, 1)\n",
      "y1_val shape (6866,)\n",
      "y1_val distribution: \n",
      " [[   0 2176]\n",
      " [   1 1904]\n",
      " [   2 1676]\n",
      " [   3 1110]]\n"
     ]
    }
   ],
   "source": [
    "# model5 = models.load_model(\"../models/image/model_5.keras\")\n",
    "x1_train,x1_test,x1_val,y1_train,y1_test,y1_val,scal = ut.img_images_load('../data/images/processed_train/x1_64.pkl','../data/images/processed_train/y1_64.pkl',\n",
    "                                                                     '../data/images/processed_val/x2_64.pkl','../data/images/processed_val/y2_64.pkl',\n",
    "                                                                     val_set = True,reshuffle=True,img_size=64)\n"
   ]
  },
  {
   "cell_type": "code",
   "execution_count": null,
   "metadata": {},
   "outputs": [],
   "source": [
    "### COMP TIME: 23 minutes\n",
    "model5 = models.Sequential()\n",
    "model5.add(layers.Conv2D(128, (3, 3), activation='relu', input_shape=(64, 64, 1)))\n",
    "model5.add(layers.Dropout(0.5))  # Dropout so overfitting is reduced\n",
    "model5.add(layers.MaxPooling2D((2, 2)))\n",
    "model5.add(layers.Conv2D(64, (3, 3), activation='relu'))\n",
    "model5.add(layers.MaxPooling2D((2, 2)))\n",
    "model5.add(layers.Flatten())\n",
    "\n",
    "# Capa densa con Dropout\n",
    "model5.add(layers.Dense(64, activation='relu'))\n",
    "model5.add(layers.Dropout(0.5))  # Dropout so overfitting is reduced\n",
    "\n",
    "model5.add(layers.Dense(4, activation='softmax'))\n",
    "\n",
    "# Compilar el modelo\n",
    "model5.compile(optimizer=RMSprop(learning_rate=0.001),\n",
    "              loss='sparse_categorical_crossentropy', #sparse_categorical_crossentropy\n",
    "              metrics=['accuracy'])\n",
    "\n",
    "model5.fit(x1_train,y1_train,batch_size=128,epochs=70,validation_data=(x1_val,y1_val), callbacks=callbacks.EarlyStopping(patience=5)\n",
    "          )"
   ]
  },
  {
   "cell_type": "code",
   "execution_count": 4,
   "metadata": {},
   "outputs": [],
   "source": [
    "# model4c.save(\"../models/image/model_5.keras\")\n",
    "model5 =  models.load_model(\"../models/image/model_5.keras\")"
   ]
  },
  {
   "cell_type": "code",
   "execution_count": 5,
   "metadata": {},
   "outputs": [
    {
     "name": "stdout",
     "output_type": "stream",
     "text": [
      "\u001b[1m190/190\u001b[0m \u001b[32m━━━━━━━━━━━━━━━━━━━━\u001b[0m\u001b[37m\u001b[0m \u001b[1m5s\u001b[0m 22ms/step\n"
     ]
    }
   ],
   "source": [
    "y1_pred = model5.predict(x1_test).argmax(axis=1)"
   ]
  },
  {
   "cell_type": "code",
   "execution_count": 20,
   "metadata": {},
   "outputs": [
    {
     "data": {
      "text/plain": [
       "array([[0.76 , 0.157, 0.083, 0.001],\n",
       "       [0.024, 0.87 , 0.102, 0.004],\n",
       "       [0.003, 0.074, 0.92 , 0.003],\n",
       "       [0.   , 0.003, 0.006, 0.991]])"
      ]
     },
     "execution_count": 20,
     "metadata": {},
     "output_type": "execute_result"
    }
   ],
   "source": [
    "confusion_matrix(y1_test, y1_pred,normalize='true').round(3) #,normalize='pred'"
   ]
  },
  {
   "cell_type": "code",
   "execution_count": 7,
   "metadata": {},
   "outputs": [
    {
     "data": {
      "text/plain": [
       "np.float64(0.8667877187190491)"
      ]
     },
     "execution_count": 7,
     "metadata": {},
     "output_type": "execute_result"
    }
   ],
   "source": [
    "recall_score(y1_test, y1_pred,average='weighted')"
   ]
  }
 ],
 "metadata": {
  "kernelspec": {
   "display_name": "Python 3",
   "language": "python",
   "name": "python3"
  },
  "language_info": {
   "codemirror_mode": {
    "name": "ipython",
    "version": 3
   },
   "file_extension": ".py",
   "mimetype": "text/x-python",
   "name": "python",
   "nbconvert_exporter": "python",
   "pygments_lexer": "ipython3",
   "version": "3.12.5"
  }
 },
 "nbformat": 4,
 "nbformat_minor": 2
}
