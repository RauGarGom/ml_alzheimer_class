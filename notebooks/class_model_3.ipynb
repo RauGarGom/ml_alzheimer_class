{
 "cells": [
  {
   "cell_type": "markdown",
   "metadata": {},
   "source": [
    "## Alzheimer"
   ]
  },
  {
   "cell_type": "code",
   "execution_count": 2,
   "metadata": {},
   "outputs": [],
   "source": [
    "import pandas as pd\n",
    "import numpy as np\n",
    "import sys\n",
    "import os\n",
    "import seaborn as sns\n",
    "import matplotlib.pyplot as plt\n",
    "from sklearn.preprocessing import StandardScaler\n",
    "from sklearn.ensemble import RandomForestClassifier, AdaBoostClassifier,GradientBoostingClassifier\n",
    "from sklearn.model_selection import cross_val_score, GridSearchCV, train_test_split, RandomizedSearchCV\n",
    "from sklearn.feature_selection import SelectKBest, chi2\n",
    "from sklearn import svm\n",
    "from tensorflow import keras\n",
    "from sklearn.metrics import auc, roc_auc_score, accuracy_score, confusion_matrix,recall_score\n",
    "from xgboost import XGBClassifier\n",
    "import pickle\n",
    "from sklearn.pipeline import Pipeline\n",
    "from sklearn.preprocessing import StandardScaler\n",
    "from sklearn.neighbors import KNeighborsClassifier\n",
    "from sklearn.linear_model import LogisticRegression\n",
    "\n",
    "from sklearn.decomposition import PCA\n",
    "sys.path.append(os.path.relpath('../src'))\n",
    "import utils as ut\n",
    "\n"
   ]
  },
  {
   "cell_type": "markdown",
   "metadata": {},
   "source": [
    "## Data reading and preliminary analysis"
   ]
  },
  {
   "cell_type": "code",
   "execution_count": 3,
   "metadata": {},
   "outputs": [
    {
     "name": "stdout",
     "output_type": "stream",
     "text": [
      "<class 'pandas.core.frame.DataFrame'>\n",
      "Index: 2149 entries, 4751 to 6899\n",
      "Data columns (total 34 columns):\n",
      " #   Column                     Non-Null Count  Dtype  \n",
      "---  ------                     --------------  -----  \n",
      " 0   Age                        2149 non-null   int64  \n",
      " 1   Gender                     2149 non-null   int64  \n",
      " 2   Ethnicity                  2149 non-null   int64  \n",
      " 3   EducationLevel             2149 non-null   int64  \n",
      " 4   BMI                        2149 non-null   float64\n",
      " 5   Smoking                    2149 non-null   int64  \n",
      " 6   AlcoholConsumption         2149 non-null   float64\n",
      " 7   PhysicalActivity           2149 non-null   float64\n",
      " 8   DietQuality                2149 non-null   float64\n",
      " 9   SleepQuality               2149 non-null   float64\n",
      " 10  FamilyHistoryAlzheimers    2149 non-null   int64  \n",
      " 11  CardiovascularDisease      2149 non-null   int64  \n",
      " 12  Diabetes                   2149 non-null   int64  \n",
      " 13  Depression                 2149 non-null   int64  \n",
      " 14  HeadInjury                 2149 non-null   int64  \n",
      " 15  Hypertension               2149 non-null   int64  \n",
      " 16  SystolicBP                 2149 non-null   int64  \n",
      " 17  DiastolicBP                2149 non-null   int64  \n",
      " 18  CholesterolTotal           2149 non-null   float64\n",
      " 19  CholesterolLDL             2149 non-null   float64\n",
      " 20  CholesterolHDL             2149 non-null   float64\n",
      " 21  CholesterolTriglycerides   2149 non-null   float64\n",
      " 22  MMSE                       2149 non-null   float64\n",
      " 23  FunctionalAssessment       2149 non-null   float64\n",
      " 24  MemoryComplaints           2149 non-null   int64  \n",
      " 25  BehavioralProblems         2149 non-null   int64  \n",
      " 26  ADL                        2149 non-null   float64\n",
      " 27  Confusion                  2149 non-null   int64  \n",
      " 28  Disorientation             2149 non-null   int64  \n",
      " 29  PersonalityChanges         2149 non-null   int64  \n",
      " 30  DifficultyCompletingTasks  2149 non-null   int64  \n",
      " 31  Forgetfulness              2149 non-null   int64  \n",
      " 32  Diagnosis                  2149 non-null   int64  \n",
      " 33  DoctorInCharge             2149 non-null   object \n",
      "dtypes: float64(12), int64(21), object(1)\n",
      "memory usage: 587.6+ KB\n"
     ]
    }
   ],
   "source": [
    "### Origin: https://www.kaggle.com/datasets/rabieelkharoua/alzheimers-disease-dataset\n",
    "alz = pd.read_csv('../data/class/raw/alzheimers_disease_data.csv',index_col='PatientID')\n",
    "alz.info()"
   ]
  },
  {
   "cell_type": "markdown",
   "metadata": {},
   "source": [
    "## Model #3"
   ]
  },
  {
   "cell_type": "markdown",
   "metadata": {},
   "source": [
    "This third model aims to take a better recall score by Neural Networks"
   ]
  },
  {
   "cell_type": "code",
   "execution_count": 64,
   "metadata": {},
   "outputs": [],
   "source": [
    "alz_3 = alz[['MMSE','FunctionalAssessment','MemoryComplaints','BehavioralProblems','ADL','Diagnosis']] #,'mix'\n",
    "x1_train, x1_test, y1_train, y1_test = ut.train_test(alz_3,test_size=.2)\n"
   ]
  },
  {
   "cell_type": "code",
   "execution_count": 65,
   "metadata": {},
   "outputs": [
    {
     "data": {
      "text/html": [
       "<div>\n",
       "<style scoped>\n",
       "    .dataframe tbody tr th:only-of-type {\n",
       "        vertical-align: middle;\n",
       "    }\n",
       "\n",
       "    .dataframe tbody tr th {\n",
       "        vertical-align: top;\n",
       "    }\n",
       "\n",
       "    .dataframe thead th {\n",
       "        text-align: right;\n",
       "    }\n",
       "</style>\n",
       "<table border=\"1\" class=\"dataframe\">\n",
       "  <thead>\n",
       "    <tr style=\"text-align: right;\">\n",
       "      <th></th>\n",
       "      <th>MMSE</th>\n",
       "      <th>FunctionalAssessment</th>\n",
       "      <th>MemoryComplaints</th>\n",
       "      <th>BehavioralProblems</th>\n",
       "      <th>ADL</th>\n",
       "    </tr>\n",
       "    <tr>\n",
       "      <th>PatientID</th>\n",
       "      <th></th>\n",
       "      <th></th>\n",
       "      <th></th>\n",
       "      <th></th>\n",
       "      <th></th>\n",
       "    </tr>\n",
       "  </thead>\n",
       "  <tbody>\n",
       "    <tr>\n",
       "      <th>5531</th>\n",
       "      <td>20.610337</td>\n",
       "      <td>5.566873</td>\n",
       "      <td>0</td>\n",
       "      <td>0</td>\n",
       "      <td>0.232938</td>\n",
       "    </tr>\n",
       "    <tr>\n",
       "      <th>6092</th>\n",
       "      <td>8.973483</td>\n",
       "      <td>9.307896</td>\n",
       "      <td>0</td>\n",
       "      <td>0</td>\n",
       "      <td>0.442326</td>\n",
       "    </tr>\n",
       "    <tr>\n",
       "      <th>5571</th>\n",
       "      <td>11.968872</td>\n",
       "      <td>4.001694</td>\n",
       "      <td>0</td>\n",
       "      <td>0</td>\n",
       "      <td>4.918146</td>\n",
       "    </tr>\n",
       "    <tr>\n",
       "      <th>5608</th>\n",
       "      <td>27.648573</td>\n",
       "      <td>9.700073</td>\n",
       "      <td>1</td>\n",
       "      <td>0</td>\n",
       "      <td>5.157190</td>\n",
       "    </tr>\n",
       "    <tr>\n",
       "      <th>5344</th>\n",
       "      <td>25.410148</td>\n",
       "      <td>8.626984</td>\n",
       "      <td>0</td>\n",
       "      <td>0</td>\n",
       "      <td>9.413984</td>\n",
       "    </tr>\n",
       "    <tr>\n",
       "      <th>...</th>\n",
       "      <td>...</td>\n",
       "      <td>...</td>\n",
       "      <td>...</td>\n",
       "      <td>...</td>\n",
       "      <td>...</td>\n",
       "    </tr>\n",
       "    <tr>\n",
       "      <th>6068</th>\n",
       "      <td>19.624474</td>\n",
       "      <td>4.408669</td>\n",
       "      <td>0</td>\n",
       "      <td>0</td>\n",
       "      <td>3.027579</td>\n",
       "    </tr>\n",
       "    <tr>\n",
       "      <th>5462</th>\n",
       "      <td>21.986095</td>\n",
       "      <td>4.496684</td>\n",
       "      <td>0</td>\n",
       "      <td>0</td>\n",
       "      <td>6.747443</td>\n",
       "    </tr>\n",
       "    <tr>\n",
       "      <th>4950</th>\n",
       "      <td>9.529090</td>\n",
       "      <td>1.157719</td>\n",
       "      <td>0</td>\n",
       "      <td>0</td>\n",
       "      <td>9.116986</td>\n",
       "    </tr>\n",
       "    <tr>\n",
       "      <th>5070</th>\n",
       "      <td>7.669430</td>\n",
       "      <td>2.391914</td>\n",
       "      <td>0</td>\n",
       "      <td>0</td>\n",
       "      <td>0.905049</td>\n",
       "    </tr>\n",
       "    <tr>\n",
       "      <th>5553</th>\n",
       "      <td>10.362395</td>\n",
       "      <td>7.561959</td>\n",
       "      <td>0</td>\n",
       "      <td>0</td>\n",
       "      <td>1.064705</td>\n",
       "    </tr>\n",
       "  </tbody>\n",
       "</table>\n",
       "<p>1719 rows × 5 columns</p>\n",
       "</div>"
      ],
      "text/plain": [
       "                MMSE  FunctionalAssessment  MemoryComplaints  \\\n",
       "PatientID                                                      \n",
       "5531       20.610337              5.566873                 0   \n",
       "6092        8.973483              9.307896                 0   \n",
       "5571       11.968872              4.001694                 0   \n",
       "5608       27.648573              9.700073                 1   \n",
       "5344       25.410148              8.626984                 0   \n",
       "...              ...                   ...               ...   \n",
       "6068       19.624474              4.408669                 0   \n",
       "5462       21.986095              4.496684                 0   \n",
       "4950        9.529090              1.157719                 0   \n",
       "5070        7.669430              2.391914                 0   \n",
       "5553       10.362395              7.561959                 0   \n",
       "\n",
       "           BehavioralProblems       ADL  \n",
       "PatientID                                \n",
       "5531                        0  0.232938  \n",
       "6092                        0  0.442326  \n",
       "5571                        0  4.918146  \n",
       "5608                        0  5.157190  \n",
       "5344                        0  9.413984  \n",
       "...                       ...       ...  \n",
       "6068                        0  3.027579  \n",
       "5462                        0  6.747443  \n",
       "4950                        0  9.116986  \n",
       "5070                        0  0.905049  \n",
       "5553                        0  1.064705  \n",
       "\n",
       "[1719 rows x 5 columns]"
      ]
     },
     "execution_count": 65,
     "metadata": {},
     "output_type": "execute_result"
    }
   ],
   "source": [
    "x1_train"
   ]
  },
  {
   "cell_type": "code",
   "execution_count": null,
   "metadata": {},
   "outputs": [
    {
     "name": "stdout",
     "output_type": "stream",
     "text": [
      "Fitting 5 folds for each of 120 candidates, totalling 600 fits\n"
     ]
    },
    {
     "name": "stderr",
     "output_type": "stream",
     "text": [
      "c:\\Users\\raulg\\AppData\\Local\\Programs\\Python\\Python312\\Lib\\site-packages\\sklearn\\feature_selection\\_univariate_selection.py:776: UserWarning: k=10 is greater than n_features=9. All the features will be returned.\n",
      "  warnings.warn(\n"
     ]
    },
    {
     "name": "stdout",
     "output_type": "stream",
     "text": [
      "Accuracy 0.9441860465116279\n",
      "AUC 0.9344708443771297\n",
      "Recall 0.9013157894736842\n",
      "[[269   9]\n",
      " [ 15 137]]\n",
      "{'classifier': GradientBoostingClassifier(), 'classifier__max_depth': 2, 'classifier__min_samples_split': 2}\n"
     ]
    }
   ],
   "source": []
  },
  {
   "cell_type": "markdown",
   "metadata": {},
   "source": [
    "Less recall than in the baseline model. We go back to the same variables, and check whether it's possible a better output"
   ]
  },
  {
   "cell_type": "code",
   "execution_count": 76,
   "metadata": {},
   "outputs": [],
   "source": [
    "alz_3b = alz[['MMSE','FunctionalAssessment','MemoryComplaints','BehavioralProblems','ADL','Diagnosis']] #,'mix'\n",
    "x1_train, x1_test,x1_val, y1_train, y1_test,y1_val = ut.train_test(alz_3b,test_size=.2,val_size=.15,val_set=True)"
   ]
  },
  {
   "cell_type": "code",
   "execution_count": 66,
   "metadata": {},
   "outputs": [
    {
     "data": {
      "text/plain": [
       "Diagnosis\n",
       "0    1111\n",
       "1     608\n",
       "Name: count, dtype: int64"
      ]
     },
     "execution_count": 66,
     "metadata": {},
     "output_type": "execute_result"
    }
   ],
   "source": [
    "y1_train.value_counts()"
   ]
  },
  {
   "cell_type": "code",
   "execution_count": 10,
   "metadata": {},
   "outputs": [
    {
     "data": {
      "text/plain": [
       "Diagnosis\n",
       "0    278\n",
       "1    152\n",
       "Name: count, dtype: int64"
      ]
     },
     "execution_count": 10,
     "metadata": {},
     "output_type": "execute_result"
    }
   ],
   "source": [
    "y1_test.value_counts()"
   ]
  },
  {
   "cell_type": "code",
   "execution_count": 11,
   "metadata": {},
   "outputs": [
    {
     "data": {
      "text/plain": [
       "Diagnosis\n",
       "0    167\n",
       "1     91\n",
       "Name: count, dtype: int64"
      ]
     },
     "execution_count": 11,
     "metadata": {},
     "output_type": "execute_result"
    }
   ],
   "source": [
    "y1_val.value_counts()"
   ]
  },
  {
   "cell_type": "code",
   "execution_count": 77,
   "metadata": {},
   "outputs": [],
   "source": [
    "scaler = StandardScaler()\n",
    "x1_train = scaler.fit_transform(x1_train)\n",
    "x1_test = scaler.transform(x1_test)\n",
    "x1_val = scaler.transform(x1_val)"
   ]
  },
  {
   "cell_type": "code",
   "execution_count": 68,
   "metadata": {},
   "outputs": [
    {
     "data": {
      "text/plain": [
       "numpy.ndarray"
      ]
     },
     "execution_count": 68,
     "metadata": {},
     "output_type": "execute_result"
    }
   ],
   "source": [
    "type(x1_train)"
   ]
  },
  {
   "cell_type": "code",
   "execution_count": 9,
   "metadata": {},
   "outputs": [
    {
     "name": "stdout",
     "output_type": "stream",
     "text": [
      "Formato de y1_train: <class 'numpy.ndarray'> (1461,)\n",
      "Valores únicos en y1_train: [0 1]\n"
     ]
    }
   ],
   "source": [
    "y1_train_np = np.array(y1_train).flatten()\n",
    "print(\"Formato de y1_train:\", type(y1_train_np), y1_train_np.shape)\n",
    "print(\"Valores únicos en y1_train:\", np.unique(y1_train))"
   ]
  },
  {
   "cell_type": "code",
   "execution_count": 78,
   "metadata": {},
   "outputs": [
    {
     "name": "stdout",
     "output_type": "stream",
     "text": [
      "Epoch 1/1000\n",
      "\u001b[1m92/92\u001b[0m \u001b[32m━━━━━━━━━━━━━━━━━━━━\u001b[0m\u001b[37m\u001b[0m \u001b[1m1s\u001b[0m 5ms/step - accuracy: 0.6472 - loss: 0.6626 - recall: 0.5467 - val_accuracy: 0.7597 - val_loss: 0.5819 - val_recall: 0.3516\n",
      "Epoch 2/1000\n",
      "\u001b[1m92/92\u001b[0m \u001b[32m━━━━━━━━━━━━━━━━━━━━\u001b[0m\u001b[37m\u001b[0m \u001b[1m0s\u001b[0m 2ms/step - accuracy: 0.7942 - loss: 0.5528 - recall: 0.4225 - val_accuracy: 0.8217 - val_loss: 0.5102 - val_recall: 0.5385\n",
      "Epoch 3/1000\n",
      "\u001b[1m92/92\u001b[0m \u001b[32m━━━━━━━━━━━━━━━━━━━━\u001b[0m\u001b[37m\u001b[0m \u001b[1m0s\u001b[0m 2ms/step - accuracy: 0.8346 - loss: 0.4838 - recall: 0.5992 - val_accuracy: 0.8372 - val_loss: 0.4588 - val_recall: 0.6374\n",
      "Epoch 4/1000\n",
      "\u001b[1m92/92\u001b[0m \u001b[32m━━━━━━━━━━━━━━━━━━━━\u001b[0m\u001b[37m\u001b[0m \u001b[1m0s\u001b[0m 2ms/step - accuracy: 0.8593 - loss: 0.4300 - recall: 0.6815 - val_accuracy: 0.8333 - val_loss: 0.4238 - val_recall: 0.6484\n",
      "Epoch 5/1000\n",
      "\u001b[1m92/92\u001b[0m \u001b[32m━━━━━━━━━━━━━━━━━━━━\u001b[0m\u001b[37m\u001b[0m \u001b[1m0s\u001b[0m 2ms/step - accuracy: 0.8759 - loss: 0.3737 - recall: 0.7355 - val_accuracy: 0.8411 - val_loss: 0.4020 - val_recall: 0.7033\n",
      "Epoch 6/1000\n",
      "\u001b[1m92/92\u001b[0m \u001b[32m━━━━━━━━━━━━━━━━━━━━\u001b[0m\u001b[37m\u001b[0m \u001b[1m0s\u001b[0m 2ms/step - accuracy: 0.8732 - loss: 0.3546 - recall: 0.7765 - val_accuracy: 0.8450 - val_loss: 0.3892 - val_recall: 0.7143\n",
      "Epoch 7/1000\n",
      "\u001b[1m92/92\u001b[0m \u001b[32m━━━━━━━━━━━━━━━━━━━━\u001b[0m\u001b[37m\u001b[0m \u001b[1m0s\u001b[0m 2ms/step - accuracy: 0.8689 - loss: 0.3528 - recall: 0.7540 - val_accuracy: 0.8450 - val_loss: 0.3822 - val_recall: 0.7143\n",
      "Epoch 8/1000\n",
      "\u001b[1m92/92\u001b[0m \u001b[32m━━━━━━━━━━━━━━━━━━━━\u001b[0m\u001b[37m\u001b[0m \u001b[1m0s\u001b[0m 2ms/step - accuracy: 0.8712 - loss: 0.3473 - recall: 0.7883 - val_accuracy: 0.8411 - val_loss: 0.3776 - val_recall: 0.7143\n",
      "Epoch 9/1000\n",
      "\u001b[1m92/92\u001b[0m \u001b[32m━━━━━━━━━━━━━━━━━━━━\u001b[0m\u001b[37m\u001b[0m \u001b[1m0s\u001b[0m 2ms/step - accuracy: 0.8786 - loss: 0.3255 - recall: 0.8010 - val_accuracy: 0.8450 - val_loss: 0.3753 - val_recall: 0.7143\n",
      "Epoch 10/1000\n",
      "\u001b[1m92/92\u001b[0m \u001b[32m━━━━━━━━━━━━━━━━━━━━\u001b[0m\u001b[37m\u001b[0m \u001b[1m0s\u001b[0m 2ms/step - accuracy: 0.8668 - loss: 0.3268 - recall: 0.7635 - val_accuracy: 0.8450 - val_loss: 0.3735 - val_recall: 0.7143\n",
      "Epoch 11/1000\n",
      "\u001b[1m92/92\u001b[0m \u001b[32m━━━━━━━━━━━━━━━━━━━━\u001b[0m\u001b[37m\u001b[0m \u001b[1m0s\u001b[0m 2ms/step - accuracy: 0.8695 - loss: 0.3301 - recall: 0.7987 - val_accuracy: 0.8450 - val_loss: 0.3723 - val_recall: 0.7143\n",
      "Epoch 12/1000\n",
      "\u001b[1m92/92\u001b[0m \u001b[32m━━━━━━━━━━━━━━━━━━━━\u001b[0m\u001b[37m\u001b[0m \u001b[1m0s\u001b[0m 2ms/step - accuracy: 0.8714 - loss: 0.3266 - recall: 0.7899 - val_accuracy: 0.8450 - val_loss: 0.3709 - val_recall: 0.7143\n",
      "Epoch 13/1000\n",
      "\u001b[1m92/92\u001b[0m \u001b[32m━━━━━━━━━━━━━━━━━━━━\u001b[0m\u001b[37m\u001b[0m \u001b[1m0s\u001b[0m 2ms/step - accuracy: 0.8761 - loss: 0.3160 - recall: 0.7956 - val_accuracy: 0.8450 - val_loss: 0.3699 - val_recall: 0.7143\n",
      "Epoch 14/1000\n",
      "\u001b[1m92/92\u001b[0m \u001b[32m━━━━━━━━━━━━━━━━━━━━\u001b[0m\u001b[37m\u001b[0m \u001b[1m0s\u001b[0m 2ms/step - accuracy: 0.8819 - loss: 0.3263 - recall: 0.8158 - val_accuracy: 0.8450 - val_loss: 0.3680 - val_recall: 0.7143\n",
      "Epoch 15/1000\n",
      "\u001b[1m92/92\u001b[0m \u001b[32m━━━━━━━━━━━━━━━━━━━━\u001b[0m\u001b[37m\u001b[0m \u001b[1m0s\u001b[0m 2ms/step - accuracy: 0.8912 - loss: 0.3097 - recall: 0.8236 - val_accuracy: 0.8450 - val_loss: 0.3678 - val_recall: 0.7143\n",
      "Epoch 16/1000\n",
      "\u001b[1m92/92\u001b[0m \u001b[32m━━━━━━━━━━━━━━━━━━━━\u001b[0m\u001b[37m\u001b[0m \u001b[1m0s\u001b[0m 2ms/step - accuracy: 0.8729 - loss: 0.3029 - recall: 0.7730 - val_accuracy: 0.8488 - val_loss: 0.3660 - val_recall: 0.7253\n",
      "Epoch 17/1000\n",
      "\u001b[1m92/92\u001b[0m \u001b[32m━━━━━━━━━━━━━━━━━━━━\u001b[0m\u001b[37m\u001b[0m \u001b[1m0s\u001b[0m 2ms/step - accuracy: 0.8696 - loss: 0.3215 - recall: 0.8077 - val_accuracy: 0.8411 - val_loss: 0.3665 - val_recall: 0.7033\n",
      "Epoch 18/1000\n",
      "\u001b[1m92/92\u001b[0m \u001b[32m━━━━━━━━━━━━━━━━━━━━\u001b[0m\u001b[37m\u001b[0m \u001b[1m0s\u001b[0m 2ms/step - accuracy: 0.8955 - loss: 0.2907 - recall: 0.8391 - val_accuracy: 0.8450 - val_loss: 0.3643 - val_recall: 0.7143\n",
      "Epoch 19/1000\n",
      "\u001b[1m92/92\u001b[0m \u001b[32m━━━━━━━━━━━━━━━━━━━━\u001b[0m\u001b[37m\u001b[0m \u001b[1m0s\u001b[0m 3ms/step - accuracy: 0.8837 - loss: 0.3004 - recall: 0.8281 - val_accuracy: 0.8527 - val_loss: 0.3633 - val_recall: 0.7363\n",
      "Epoch 20/1000\n",
      "\u001b[1m92/92\u001b[0m \u001b[32m━━━━━━━━━━━━━━━━━━━━\u001b[0m\u001b[37m\u001b[0m \u001b[1m0s\u001b[0m 2ms/step - accuracy: 0.8945 - loss: 0.2895 - recall: 0.8279 - val_accuracy: 0.8450 - val_loss: 0.3633 - val_recall: 0.7033\n",
      "Epoch 21/1000\n",
      "\u001b[1m92/92\u001b[0m \u001b[32m━━━━━━━━━━━━━━━━━━━━\u001b[0m\u001b[37m\u001b[0m \u001b[1m0s\u001b[0m 2ms/step - accuracy: 0.8938 - loss: 0.3013 - recall: 0.8056 - val_accuracy: 0.8527 - val_loss: 0.3616 - val_recall: 0.7253\n",
      "Epoch 22/1000\n",
      "\u001b[1m92/92\u001b[0m \u001b[32m━━━━━━━━━━━━━━━━━━━━\u001b[0m\u001b[37m\u001b[0m \u001b[1m0s\u001b[0m 2ms/step - accuracy: 0.9010 - loss: 0.2814 - recall: 0.8430 - val_accuracy: 0.8527 - val_loss: 0.3601 - val_recall: 0.7253\n",
      "Epoch 23/1000\n",
      "\u001b[1m92/92\u001b[0m \u001b[32m━━━━━━━━━━━━━━━━━━━━\u001b[0m\u001b[37m\u001b[0m \u001b[1m0s\u001b[0m 2ms/step - accuracy: 0.8935 - loss: 0.3064 - recall: 0.8281 - val_accuracy: 0.8527 - val_loss: 0.3597 - val_recall: 0.7143\n",
      "Epoch 24/1000\n",
      "\u001b[1m92/92\u001b[0m \u001b[32m━━━━━━━━━━━━━━━━━━━━\u001b[0m\u001b[37m\u001b[0m \u001b[1m0s\u001b[0m 2ms/step - accuracy: 0.8949 - loss: 0.2905 - recall: 0.8250 - val_accuracy: 0.8488 - val_loss: 0.3578 - val_recall: 0.7033\n",
      "Epoch 25/1000\n",
      "\u001b[1m92/92\u001b[0m \u001b[32m━━━━━━━━━━━━━━━━━━━━\u001b[0m\u001b[37m\u001b[0m \u001b[1m0s\u001b[0m 2ms/step - accuracy: 0.8875 - loss: 0.2891 - recall: 0.7912 - val_accuracy: 0.8488 - val_loss: 0.3573 - val_recall: 0.7033\n",
      "Epoch 26/1000\n",
      "\u001b[1m92/92\u001b[0m \u001b[32m━━━━━━━━━━━━━━━━━━━━\u001b[0m\u001b[37m\u001b[0m \u001b[1m0s\u001b[0m 2ms/step - accuracy: 0.8947 - loss: 0.2994 - recall: 0.8366 - val_accuracy: 0.8605 - val_loss: 0.3560 - val_recall: 0.7363\n",
      "Epoch 27/1000\n",
      "\u001b[1m92/92\u001b[0m \u001b[32m━━━━━━━━━━━━━━━━━━━━\u001b[0m\u001b[37m\u001b[0m \u001b[1m0s\u001b[0m 2ms/step - accuracy: 0.9009 - loss: 0.2730 - recall: 0.8361 - val_accuracy: 0.8643 - val_loss: 0.3545 - val_recall: 0.7473\n",
      "Epoch 28/1000\n",
      "\u001b[1m92/92\u001b[0m \u001b[32m━━━━━━━━━━━━━━━━━━━━\u001b[0m\u001b[37m\u001b[0m \u001b[1m0s\u001b[0m 2ms/step - accuracy: 0.8914 - loss: 0.2936 - recall: 0.8348 - val_accuracy: 0.8682 - val_loss: 0.3539 - val_recall: 0.7473\n",
      "Epoch 29/1000\n",
      "\u001b[1m92/92\u001b[0m \u001b[32m━━━━━━━━━━━━━━━━━━━━\u001b[0m\u001b[37m\u001b[0m \u001b[1m0s\u001b[0m 2ms/step - accuracy: 0.9020 - loss: 0.2675 - recall: 0.8291 - val_accuracy: 0.8643 - val_loss: 0.3518 - val_recall: 0.7363\n",
      "Epoch 30/1000\n",
      "\u001b[1m92/92\u001b[0m \u001b[32m━━━━━━━━━━━━━━━━━━━━\u001b[0m\u001b[37m\u001b[0m \u001b[1m0s\u001b[0m 2ms/step - accuracy: 0.8925 - loss: 0.2893 - recall: 0.8088 - val_accuracy: 0.8682 - val_loss: 0.3509 - val_recall: 0.7473\n",
      "Epoch 31/1000\n",
      "\u001b[1m92/92\u001b[0m \u001b[32m━━━━━━━━━━━━━━━━━━━━\u001b[0m\u001b[37m\u001b[0m \u001b[1m0s\u001b[0m 2ms/step - accuracy: 0.9001 - loss: 0.2710 - recall: 0.8326 - val_accuracy: 0.8721 - val_loss: 0.3480 - val_recall: 0.7692\n",
      "Epoch 32/1000\n",
      "\u001b[1m92/92\u001b[0m \u001b[32m━━━━━━━━━━━━━━━━━━━━\u001b[0m\u001b[37m\u001b[0m \u001b[1m0s\u001b[0m 2ms/step - accuracy: 0.8938 - loss: 0.2728 - recall: 0.8193 - val_accuracy: 0.8682 - val_loss: 0.3486 - val_recall: 0.7473\n",
      "Epoch 33/1000\n",
      "\u001b[1m92/92\u001b[0m \u001b[32m━━━━━━━━━━━━━━━━━━━━\u001b[0m\u001b[37m\u001b[0m \u001b[1m0s\u001b[0m 2ms/step - accuracy: 0.9014 - loss: 0.2913 - recall: 0.8259 - val_accuracy: 0.8682 - val_loss: 0.3498 - val_recall: 0.7363\n",
      "Epoch 34/1000\n",
      "\u001b[1m92/92\u001b[0m \u001b[32m━━━━━━━━━━━━━━━━━━━━\u001b[0m\u001b[37m\u001b[0m \u001b[1m0s\u001b[0m 2ms/step - accuracy: 0.8876 - loss: 0.2891 - recall: 0.8174 - val_accuracy: 0.8682 - val_loss: 0.3490 - val_recall: 0.7363\n",
      "Epoch 35/1000\n",
      "\u001b[1m92/92\u001b[0m \u001b[32m━━━━━━━━━━━━━━━━━━━━\u001b[0m\u001b[37m\u001b[0m \u001b[1m0s\u001b[0m 2ms/step - accuracy: 0.8979 - loss: 0.2672 - recall: 0.8196 - val_accuracy: 0.8682 - val_loss: 0.3484 - val_recall: 0.7363\n",
      "Epoch 36/1000\n",
      "\u001b[1m92/92\u001b[0m \u001b[32m━━━━━━━━━━━━━━━━━━━━\u001b[0m\u001b[37m\u001b[0m \u001b[1m0s\u001b[0m 2ms/step - accuracy: 0.8968 - loss: 0.2940 - recall: 0.8039 - val_accuracy: 0.8682 - val_loss: 0.3470 - val_recall: 0.7363\n",
      "Epoch 37/1000\n",
      "\u001b[1m92/92\u001b[0m \u001b[32m━━━━━━━━━━━━━━━━━━━━\u001b[0m\u001b[37m\u001b[0m \u001b[1m0s\u001b[0m 2ms/step - accuracy: 0.8968 - loss: 0.2629 - recall: 0.8341 - val_accuracy: 0.8682 - val_loss: 0.3459 - val_recall: 0.7473\n",
      "Epoch 38/1000\n",
      "\u001b[1m92/92\u001b[0m \u001b[32m━━━━━━━━━━━━━━━━━━━━\u001b[0m\u001b[37m\u001b[0m \u001b[1m0s\u001b[0m 2ms/step - accuracy: 0.9232 - loss: 0.2376 - recall: 0.8636 - val_accuracy: 0.8721 - val_loss: 0.3454 - val_recall: 0.7473\n",
      "Epoch 39/1000\n",
      "\u001b[1m92/92\u001b[0m \u001b[32m━━━━━━━━━━━━━━━━━━━━\u001b[0m\u001b[37m\u001b[0m \u001b[1m0s\u001b[0m 2ms/step - accuracy: 0.9016 - loss: 0.2690 - recall: 0.8271 - val_accuracy: 0.8721 - val_loss: 0.3432 - val_recall: 0.7473\n",
      "Epoch 40/1000\n",
      "\u001b[1m92/92\u001b[0m \u001b[32m━━━━━━━━━━━━━━━━━━━━\u001b[0m\u001b[37m\u001b[0m \u001b[1m0s\u001b[0m 2ms/step - accuracy: 0.9006 - loss: 0.2913 - recall: 0.8260 - val_accuracy: 0.8721 - val_loss: 0.3449 - val_recall: 0.7363\n",
      "Epoch 41/1000\n",
      "\u001b[1m92/92\u001b[0m \u001b[32m━━━━━━━━━━━━━━━━━━━━\u001b[0m\u001b[37m\u001b[0m \u001b[1m0s\u001b[0m 2ms/step - accuracy: 0.9045 - loss: 0.2621 - recall: 0.8246 - val_accuracy: 0.8760 - val_loss: 0.3435 - val_recall: 0.7473\n",
      "Epoch 42/1000\n",
      "\u001b[1m92/92\u001b[0m \u001b[32m━━━━━━━━━━━━━━━━━━━━\u001b[0m\u001b[37m\u001b[0m \u001b[1m0s\u001b[0m 2ms/step - accuracy: 0.9153 - loss: 0.2317 - recall: 0.8459 - val_accuracy: 0.8721 - val_loss: 0.3414 - val_recall: 0.7473\n",
      "Epoch 43/1000\n",
      "\u001b[1m92/92\u001b[0m \u001b[32m━━━━━━━━━━━━━━━━━━━━\u001b[0m\u001b[37m\u001b[0m \u001b[1m0s\u001b[0m 2ms/step - accuracy: 0.9081 - loss: 0.2821 - recall: 0.8428 - val_accuracy: 0.8760 - val_loss: 0.3411 - val_recall: 0.7473\n",
      "Epoch 44/1000\n",
      "\u001b[1m92/92\u001b[0m \u001b[32m━━━━━━━━━━━━━━━━━━━━\u001b[0m\u001b[37m\u001b[0m \u001b[1m0s\u001b[0m 2ms/step - accuracy: 0.9140 - loss: 0.2583 - recall: 0.8432 - val_accuracy: 0.8760 - val_loss: 0.3416 - val_recall: 0.7473\n",
      "Epoch 45/1000\n",
      "\u001b[1m92/92\u001b[0m \u001b[32m━━━━━━━━━━━━━━━━━━━━\u001b[0m\u001b[37m\u001b[0m \u001b[1m0s\u001b[0m 2ms/step - accuracy: 0.9050 - loss: 0.2628 - recall: 0.8305 - val_accuracy: 0.8760 - val_loss: 0.3405 - val_recall: 0.7473\n",
      "Epoch 46/1000\n",
      "\u001b[1m92/92\u001b[0m \u001b[32m━━━━━━━━━━━━━━━━━━━━\u001b[0m\u001b[37m\u001b[0m \u001b[1m0s\u001b[0m 2ms/step - accuracy: 0.9108 - loss: 0.2380 - recall: 0.8481 - val_accuracy: 0.8798 - val_loss: 0.3384 - val_recall: 0.7473\n",
      "Epoch 47/1000\n",
      "\u001b[1m92/92\u001b[0m \u001b[32m━━━━━━━━━━━━━━━━━━━━\u001b[0m\u001b[37m\u001b[0m \u001b[1m0s\u001b[0m 2ms/step - accuracy: 0.9054 - loss: 0.2762 - recall: 0.8449 - val_accuracy: 0.8721 - val_loss: 0.3405 - val_recall: 0.7363\n",
      "Epoch 48/1000\n",
      "\u001b[1m92/92\u001b[0m \u001b[32m━━━━━━━━━━━━━━━━━━━━\u001b[0m\u001b[37m\u001b[0m \u001b[1m0s\u001b[0m 2ms/step - accuracy: 0.9037 - loss: 0.2863 - recall: 0.8438 - val_accuracy: 0.8760 - val_loss: 0.3388 - val_recall: 0.7363\n",
      "Epoch 49/1000\n",
      "\u001b[1m92/92\u001b[0m \u001b[32m━━━━━━━━━━━━━━━━━━━━\u001b[0m\u001b[37m\u001b[0m \u001b[1m0s\u001b[0m 2ms/step - accuracy: 0.9043 - loss: 0.2607 - recall: 0.8386 - val_accuracy: 0.8798 - val_loss: 0.3346 - val_recall: 0.7582\n",
      "Epoch 50/1000\n",
      "\u001b[1m92/92\u001b[0m \u001b[32m━━━━━━━━━━━━━━━━━━━━\u001b[0m\u001b[37m\u001b[0m \u001b[1m0s\u001b[0m 2ms/step - accuracy: 0.9091 - loss: 0.2633 - recall: 0.8551 - val_accuracy: 0.8798 - val_loss: 0.3358 - val_recall: 0.7582\n",
      "Epoch 51/1000\n",
      "\u001b[1m92/92\u001b[0m \u001b[32m━━━━━━━━━━━━━━━━━━━━\u001b[0m\u001b[37m\u001b[0m \u001b[1m0s\u001b[0m 2ms/step - accuracy: 0.9057 - loss: 0.2574 - recall: 0.8381 - val_accuracy: 0.8798 - val_loss: 0.3371 - val_recall: 0.7363\n",
      "Epoch 52/1000\n",
      "\u001b[1m92/92\u001b[0m \u001b[32m━━━━━━━━━━━━━━━━━━━━\u001b[0m\u001b[37m\u001b[0m \u001b[1m0s\u001b[0m 2ms/step - accuracy: 0.9072 - loss: 0.2688 - recall: 0.8450 - val_accuracy: 0.8798 - val_loss: 0.3338 - val_recall: 0.7582\n",
      "Epoch 53/1000\n",
      "\u001b[1m92/92\u001b[0m \u001b[32m━━━━━━━━━━━━━━━━━━━━\u001b[0m\u001b[37m\u001b[0m \u001b[1m0s\u001b[0m 2ms/step - accuracy: 0.9074 - loss: 0.2739 - recall: 0.8269 - val_accuracy: 0.8760 - val_loss: 0.3356 - val_recall: 0.7363\n",
      "Epoch 54/1000\n",
      "\u001b[1m92/92\u001b[0m \u001b[32m━━━━━━━━━━━━━━━━━━━━\u001b[0m\u001b[37m\u001b[0m \u001b[1m0s\u001b[0m 2ms/step - accuracy: 0.9149 - loss: 0.2550 - recall: 0.8594 - val_accuracy: 0.8798 - val_loss: 0.3346 - val_recall: 0.7473\n",
      "Epoch 55/1000\n",
      "\u001b[1m92/92\u001b[0m \u001b[32m━━━━━━━━━━━━━━━━━━━━\u001b[0m\u001b[37m\u001b[0m \u001b[1m0s\u001b[0m 2ms/step - accuracy: 0.9148 - loss: 0.2512 - recall: 0.8518 - val_accuracy: 0.8837 - val_loss: 0.3339 - val_recall: 0.7582\n",
      "Epoch 56/1000\n",
      "\u001b[1m92/92\u001b[0m \u001b[32m━━━━━━━━━━━━━━━━━━━━\u001b[0m\u001b[37m\u001b[0m \u001b[1m0s\u001b[0m 2ms/step - accuracy: 0.9162 - loss: 0.2436 - recall: 0.8739 - val_accuracy: 0.8760 - val_loss: 0.3343 - val_recall: 0.7363\n",
      "Epoch 57/1000\n",
      "\u001b[1m92/92\u001b[0m \u001b[32m━━━━━━━━━━━━━━━━━━━━\u001b[0m\u001b[37m\u001b[0m \u001b[1m0s\u001b[0m 2ms/step - accuracy: 0.9113 - loss: 0.2467 - recall: 0.8389 - val_accuracy: 0.8798 - val_loss: 0.3306 - val_recall: 0.7582\n",
      "Epoch 58/1000\n",
      "\u001b[1m92/92\u001b[0m \u001b[32m━━━━━━━━━━━━━━━━━━━━\u001b[0m\u001b[37m\u001b[0m \u001b[1m0s\u001b[0m 2ms/step - accuracy: 0.9163 - loss: 0.2535 - recall: 0.8783 - val_accuracy: 0.8837 - val_loss: 0.3320 - val_recall: 0.7473\n",
      "Epoch 59/1000\n",
      "\u001b[1m92/92\u001b[0m \u001b[32m━━━━━━━━━━━━━━━━━━━━\u001b[0m\u001b[37m\u001b[0m \u001b[1m0s\u001b[0m 2ms/step - accuracy: 0.9139 - loss: 0.2419 - recall: 0.8543 - val_accuracy: 0.8837 - val_loss: 0.3297 - val_recall: 0.7582\n",
      "Epoch 60/1000\n",
      "\u001b[1m92/92\u001b[0m \u001b[32m━━━━━━━━━━━━━━━━━━━━\u001b[0m\u001b[37m\u001b[0m \u001b[1m0s\u001b[0m 2ms/step - accuracy: 0.9186 - loss: 0.2512 - recall: 0.8840 - val_accuracy: 0.8798 - val_loss: 0.3315 - val_recall: 0.7363\n",
      "Epoch 61/1000\n",
      "\u001b[1m92/92\u001b[0m \u001b[32m━━━━━━━━━━━━━━━━━━━━\u001b[0m\u001b[37m\u001b[0m \u001b[1m0s\u001b[0m 2ms/step - accuracy: 0.9235 - loss: 0.2327 - recall: 0.8729 - val_accuracy: 0.8876 - val_loss: 0.3268 - val_recall: 0.7692\n",
      "Epoch 62/1000\n",
      "\u001b[1m92/92\u001b[0m \u001b[32m━━━━━━━━━━━━━━━━━━━━\u001b[0m\u001b[37m\u001b[0m \u001b[1m0s\u001b[0m 2ms/step - accuracy: 0.9207 - loss: 0.2264 - recall: 0.8666 - val_accuracy: 0.8876 - val_loss: 0.3286 - val_recall: 0.7692\n",
      "Epoch 63/1000\n",
      "\u001b[1m92/92\u001b[0m \u001b[32m━━━━━━━━━━━━━━━━━━━━\u001b[0m\u001b[37m\u001b[0m \u001b[1m0s\u001b[0m 2ms/step - accuracy: 0.9172 - loss: 0.2496 - recall: 0.8565 - val_accuracy: 0.8876 - val_loss: 0.3270 - val_recall: 0.7692\n",
      "Epoch 64/1000\n",
      "\u001b[1m92/92\u001b[0m \u001b[32m━━━━━━━━━━━━━━━━━━━━\u001b[0m\u001b[37m\u001b[0m \u001b[1m0s\u001b[0m 2ms/step - accuracy: 0.9136 - loss: 0.2572 - recall: 0.8671 - val_accuracy: 0.8915 - val_loss: 0.3266 - val_recall: 0.7692\n",
      "Epoch 65/1000\n",
      "\u001b[1m92/92\u001b[0m \u001b[32m━━━━━━━━━━━━━━━━━━━━\u001b[0m\u001b[37m\u001b[0m \u001b[1m0s\u001b[0m 2ms/step - accuracy: 0.9014 - loss: 0.2579 - recall: 0.8426 - val_accuracy: 0.8876 - val_loss: 0.3271 - val_recall: 0.7692\n",
      "Epoch 66/1000\n",
      "\u001b[1m92/92\u001b[0m \u001b[32m━━━━━━━━━━━━━━━━━━━━\u001b[0m\u001b[37m\u001b[0m \u001b[1m0s\u001b[0m 2ms/step - accuracy: 0.9144 - loss: 0.2524 - recall: 0.8701 - val_accuracy: 0.8915 - val_loss: 0.3264 - val_recall: 0.7692\n",
      "Epoch 67/1000\n",
      "\u001b[1m92/92\u001b[0m \u001b[32m━━━━━━━━━━━━━━━━━━━━\u001b[0m\u001b[37m\u001b[0m \u001b[1m0s\u001b[0m 2ms/step - accuracy: 0.9154 - loss: 0.2497 - recall: 0.8464 - val_accuracy: 0.8915 - val_loss: 0.3257 - val_recall: 0.7692\n",
      "Epoch 68/1000\n",
      "\u001b[1m92/92\u001b[0m \u001b[32m━━━━━━━━━━━━━━━━━━━━\u001b[0m\u001b[37m\u001b[0m \u001b[1m0s\u001b[0m 2ms/step - accuracy: 0.9201 - loss: 0.2555 - recall: 0.8533 - val_accuracy: 0.8876 - val_loss: 0.3263 - val_recall: 0.7692\n",
      "Epoch 69/1000\n",
      "\u001b[1m92/92\u001b[0m \u001b[32m━━━━━━━━━━━━━━━━━━━━\u001b[0m\u001b[37m\u001b[0m \u001b[1m0s\u001b[0m 2ms/step - accuracy: 0.9158 - loss: 0.2361 - recall: 0.8617 - val_accuracy: 0.8876 - val_loss: 0.3233 - val_recall: 0.7692\n",
      "Epoch 70/1000\n",
      "\u001b[1m92/92\u001b[0m \u001b[32m━━━━━━━━━━━━━━━━━━━━\u001b[0m\u001b[37m\u001b[0m \u001b[1m0s\u001b[0m 2ms/step - accuracy: 0.9120 - loss: 0.2656 - recall: 0.8562 - val_accuracy: 0.8837 - val_loss: 0.3273 - val_recall: 0.7473\n",
      "Epoch 71/1000\n",
      "\u001b[1m92/92\u001b[0m \u001b[32m━━━━━━━━━━━━━━━━━━━━\u001b[0m\u001b[37m\u001b[0m \u001b[1m0s\u001b[0m 2ms/step - accuracy: 0.9214 - loss: 0.2317 - recall: 0.8728 - val_accuracy: 0.8876 - val_loss: 0.3238 - val_recall: 0.7692\n",
      "Epoch 72/1000\n",
      "\u001b[1m92/92\u001b[0m \u001b[32m━━━━━━━━━━━━━━━━━━━━\u001b[0m\u001b[37m\u001b[0m \u001b[1m0s\u001b[0m 2ms/step - accuracy: 0.9219 - loss: 0.2290 - recall: 0.8795 - val_accuracy: 0.8876 - val_loss: 0.3229 - val_recall: 0.7802\n",
      "Epoch 73/1000\n",
      "\u001b[1m92/92\u001b[0m \u001b[32m━━━━━━━━━━━━━━━━━━━━\u001b[0m\u001b[37m\u001b[0m \u001b[1m0s\u001b[0m 2ms/step - accuracy: 0.9114 - loss: 0.2511 - recall: 0.8609 - val_accuracy: 0.8915 - val_loss: 0.3224 - val_recall: 0.7692\n",
      "Epoch 74/1000\n",
      "\u001b[1m92/92\u001b[0m \u001b[32m━━━━━━━━━━━━━━━━━━━━\u001b[0m\u001b[37m\u001b[0m \u001b[1m0s\u001b[0m 2ms/step - accuracy: 0.9218 - loss: 0.2389 - recall: 0.8708 - val_accuracy: 0.8953 - val_loss: 0.3201 - val_recall: 0.7912\n",
      "Epoch 75/1000\n",
      "\u001b[1m92/92\u001b[0m \u001b[32m━━━━━━━━━━━━━━━━━━━━\u001b[0m\u001b[37m\u001b[0m \u001b[1m0s\u001b[0m 2ms/step - accuracy: 0.9263 - loss: 0.2322 - recall: 0.8808 - val_accuracy: 0.8915 - val_loss: 0.3228 - val_recall: 0.7692\n",
      "Epoch 76/1000\n",
      "\u001b[1m92/92\u001b[0m \u001b[32m━━━━━━━━━━━━━━━━━━━━\u001b[0m\u001b[37m\u001b[0m \u001b[1m0s\u001b[0m 2ms/step - accuracy: 0.9132 - loss: 0.2718 - recall: 0.8469 - val_accuracy: 0.8876 - val_loss: 0.3186 - val_recall: 0.7692\n",
      "Epoch 77/1000\n",
      "\u001b[1m92/92\u001b[0m \u001b[32m━━━━━━━━━━━━━━━━━━━━\u001b[0m\u001b[37m\u001b[0m \u001b[1m0s\u001b[0m 2ms/step - accuracy: 0.9336 - loss: 0.2191 - recall: 0.8895 - val_accuracy: 0.8915 - val_loss: 0.3187 - val_recall: 0.7802\n",
      "Epoch 78/1000\n",
      "\u001b[1m92/92\u001b[0m \u001b[32m━━━━━━━━━━━━━━━━━━━━\u001b[0m\u001b[37m\u001b[0m \u001b[1m0s\u001b[0m 2ms/step - accuracy: 0.9221 - loss: 0.2322 - recall: 0.8725 - val_accuracy: 0.8915 - val_loss: 0.3213 - val_recall: 0.7692\n",
      "Epoch 79/1000\n",
      "\u001b[1m92/92\u001b[0m \u001b[32m━━━━━━━━━━━━━━━━━━━━\u001b[0m\u001b[37m\u001b[0m \u001b[1m0s\u001b[0m 2ms/step - accuracy: 0.9188 - loss: 0.2505 - recall: 0.8661 - val_accuracy: 0.8953 - val_loss: 0.3178 - val_recall: 0.7802\n",
      "Epoch 80/1000\n",
      "\u001b[1m92/92\u001b[0m \u001b[32m━━━━━━━━━━━━━━━━━━━━\u001b[0m\u001b[37m\u001b[0m \u001b[1m0s\u001b[0m 2ms/step - accuracy: 0.9255 - loss: 0.2330 - recall: 0.8773 - val_accuracy: 0.8953 - val_loss: 0.3181 - val_recall: 0.7802\n",
      "Epoch 81/1000\n",
      "\u001b[1m92/92\u001b[0m \u001b[32m━━━━━━━━━━━━━━━━━━━━\u001b[0m\u001b[37m\u001b[0m \u001b[1m0s\u001b[0m 2ms/step - accuracy: 0.9290 - loss: 0.2176 - recall: 0.8724 - val_accuracy: 0.8953 - val_loss: 0.3204 - val_recall: 0.7802\n",
      "Epoch 82/1000\n",
      "\u001b[1m92/92\u001b[0m \u001b[32m━━━━━━━━━━━━━━━━━━━━\u001b[0m\u001b[37m\u001b[0m \u001b[1m0s\u001b[0m 2ms/step - accuracy: 0.9214 - loss: 0.2466 - recall: 0.8425 - val_accuracy: 0.8915 - val_loss: 0.3115 - val_recall: 0.7912\n",
      "Epoch 83/1000\n",
      "\u001b[1m92/92\u001b[0m \u001b[32m━━━━━━━━━━━━━━━━━━━━\u001b[0m\u001b[37m\u001b[0m \u001b[1m0s\u001b[0m 2ms/step - accuracy: 0.9161 - loss: 0.2483 - recall: 0.8743 - val_accuracy: 0.8915 - val_loss: 0.3152 - val_recall: 0.7802\n",
      "Epoch 84/1000\n",
      "\u001b[1m92/92\u001b[0m \u001b[32m━━━━━━━━━━━━━━━━━━━━\u001b[0m\u001b[37m\u001b[0m \u001b[1m0s\u001b[0m 2ms/step - accuracy: 0.9301 - loss: 0.2177 - recall: 0.8864 - val_accuracy: 0.8953 - val_loss: 0.3151 - val_recall: 0.7802\n",
      "Epoch 85/1000\n",
      "\u001b[1m92/92\u001b[0m \u001b[32m━━━━━━━━━━━━━━━━━━━━\u001b[0m\u001b[37m\u001b[0m \u001b[1m0s\u001b[0m 2ms/step - accuracy: 0.9323 - loss: 0.2427 - recall: 0.8822 - val_accuracy: 0.8992 - val_loss: 0.3157 - val_recall: 0.8022\n",
      "Epoch 86/1000\n",
      "\u001b[1m92/92\u001b[0m \u001b[32m━━━━━━━━━━━━━━━━━━━━\u001b[0m\u001b[37m\u001b[0m \u001b[1m0s\u001b[0m 2ms/step - accuracy: 0.9294 - loss: 0.2361 - recall: 0.8792 - val_accuracy: 0.8953 - val_loss: 0.3189 - val_recall: 0.7692\n",
      "Epoch 87/1000\n",
      "\u001b[1m92/92\u001b[0m \u001b[32m━━━━━━━━━━━━━━━━━━━━\u001b[0m\u001b[37m\u001b[0m \u001b[1m0s\u001b[0m 2ms/step - accuracy: 0.9288 - loss: 0.2413 - recall: 0.8792 - val_accuracy: 0.8992 - val_loss: 0.3125 - val_recall: 0.8022\n",
      "Epoch 88/1000\n",
      "\u001b[1m92/92\u001b[0m \u001b[32m━━━━━━━━━━━━━━━━━━━━\u001b[0m\u001b[37m\u001b[0m \u001b[1m0s\u001b[0m 2ms/step - accuracy: 0.9353 - loss: 0.2092 - recall: 0.8886 - val_accuracy: 0.8992 - val_loss: 0.3129 - val_recall: 0.7912\n",
      "Epoch 89/1000\n",
      "\u001b[1m92/92\u001b[0m \u001b[32m━━━━━━━━━━━━━━━━━━━━\u001b[0m\u001b[37m\u001b[0m \u001b[1m0s\u001b[0m 2ms/step - accuracy: 0.9271 - loss: 0.2399 - recall: 0.8764 - val_accuracy: 0.8992 - val_loss: 0.3184 - val_recall: 0.7802\n",
      "Epoch 90/1000\n",
      "\u001b[1m92/92\u001b[0m \u001b[32m━━━━━━━━━━━━━━━━━━━━\u001b[0m\u001b[37m\u001b[0m \u001b[1m0s\u001b[0m 2ms/step - accuracy: 0.9325 - loss: 0.2269 - recall: 0.8834 - val_accuracy: 0.8992 - val_loss: 0.3119 - val_recall: 0.8022\n",
      "Epoch 91/1000\n",
      "\u001b[1m92/92\u001b[0m \u001b[32m━━━━━━━━━━━━━━━━━━━━\u001b[0m\u001b[37m\u001b[0m \u001b[1m0s\u001b[0m 2ms/step - accuracy: 0.9287 - loss: 0.2373 - recall: 0.8756 - val_accuracy: 0.8992 - val_loss: 0.3110 - val_recall: 0.8022\n",
      "Epoch 92/1000\n",
      "\u001b[1m92/92\u001b[0m \u001b[32m━━━━━━━━━━━━━━━━━━━━\u001b[0m\u001b[37m\u001b[0m \u001b[1m0s\u001b[0m 2ms/step - accuracy: 0.9363 - loss: 0.2044 - recall: 0.8917 - val_accuracy: 0.8953 - val_loss: 0.3137 - val_recall: 0.7912\n",
      "Epoch 93/1000\n",
      "\u001b[1m92/92\u001b[0m \u001b[32m━━━━━━━━━━━━━━━━━━━━\u001b[0m\u001b[37m\u001b[0m \u001b[1m0s\u001b[0m 2ms/step - accuracy: 0.9207 - loss: 0.2421 - recall: 0.8564 - val_accuracy: 0.8992 - val_loss: 0.3119 - val_recall: 0.8022\n",
      "Epoch 94/1000\n",
      "\u001b[1m92/92\u001b[0m \u001b[32m━━━━━━━━━━━━━━━━━━━━\u001b[0m\u001b[37m\u001b[0m \u001b[1m0s\u001b[0m 2ms/step - accuracy: 0.9250 - loss: 0.2489 - recall: 0.8622 - val_accuracy: 0.8992 - val_loss: 0.3142 - val_recall: 0.7912\n",
      "Epoch 95/1000\n",
      "\u001b[1m92/92\u001b[0m \u001b[32m━━━━━━━━━━━━━━━━━━━━\u001b[0m\u001b[37m\u001b[0m \u001b[1m0s\u001b[0m 2ms/step - accuracy: 0.9374 - loss: 0.2120 - recall: 0.8802 - val_accuracy: 0.8915 - val_loss: 0.3136 - val_recall: 0.7692\n",
      "Epoch 96/1000\n",
      "\u001b[1m92/92\u001b[0m \u001b[32m━━━━━━━━━━━━━━━━━━━━\u001b[0m\u001b[37m\u001b[0m \u001b[1m0s\u001b[0m 2ms/step - accuracy: 0.9226 - loss: 0.2510 - recall: 0.8671 - val_accuracy: 0.8992 - val_loss: 0.3099 - val_recall: 0.8022\n",
      "Epoch 97/1000\n",
      "\u001b[1m92/92\u001b[0m \u001b[32m━━━━━━━━━━━━━━━━━━━━\u001b[0m\u001b[37m\u001b[0m \u001b[1m0s\u001b[0m 2ms/step - accuracy: 0.9345 - loss: 0.2212 - recall: 0.8930 - val_accuracy: 0.8992 - val_loss: 0.3104 - val_recall: 0.8022\n",
      "Epoch 98/1000\n",
      "\u001b[1m92/92\u001b[0m \u001b[32m━━━━━━━━━━━━━━━━━━━━\u001b[0m\u001b[37m\u001b[0m \u001b[1m0s\u001b[0m 2ms/step - accuracy: 0.9319 - loss: 0.2271 - recall: 0.8890 - val_accuracy: 0.8953 - val_loss: 0.3073 - val_recall: 0.8022\n",
      "Epoch 99/1000\n",
      "\u001b[1m92/92\u001b[0m \u001b[32m━━━━━━━━━━━━━━━━━━━━\u001b[0m\u001b[37m\u001b[0m \u001b[1m0s\u001b[0m 2ms/step - accuracy: 0.9275 - loss: 0.2311 - recall: 0.8771 - val_accuracy: 0.8992 - val_loss: 0.3072 - val_recall: 0.8022\n",
      "Epoch 100/1000\n",
      "\u001b[1m92/92\u001b[0m \u001b[32m━━━━━━━━━━━━━━━━━━━━\u001b[0m\u001b[37m\u001b[0m \u001b[1m0s\u001b[0m 2ms/step - accuracy: 0.9312 - loss: 0.2174 - recall: 0.8795 - val_accuracy: 0.8953 - val_loss: 0.3101 - val_recall: 0.7692\n",
      "Epoch 101/1000\n",
      "\u001b[1m92/92\u001b[0m \u001b[32m━━━━━━━━━━━━━━━━━━━━\u001b[0m\u001b[37m\u001b[0m \u001b[1m0s\u001b[0m 2ms/step - accuracy: 0.9237 - loss: 0.2224 - recall: 0.8718 - val_accuracy: 0.8992 - val_loss: 0.3101 - val_recall: 0.7802\n",
      "Epoch 102/1000\n",
      "\u001b[1m92/92\u001b[0m \u001b[32m━━━━━━━━━━━━━━━━━━━━\u001b[0m\u001b[37m\u001b[0m \u001b[1m0s\u001b[0m 2ms/step - accuracy: 0.9306 - loss: 0.2314 - recall: 0.8601 - val_accuracy: 0.8992 - val_loss: 0.3108 - val_recall: 0.7802\n",
      "Epoch 103/1000\n",
      "\u001b[1m92/92\u001b[0m \u001b[32m━━━━━━━━━━━━━━━━━━━━\u001b[0m\u001b[37m\u001b[0m \u001b[1m0s\u001b[0m 2ms/step - accuracy: 0.9273 - loss: 0.2189 - recall: 0.8612 - val_accuracy: 0.8992 - val_loss: 0.3073 - val_recall: 0.7802\n",
      "Epoch 104/1000\n",
      "\u001b[1m92/92\u001b[0m \u001b[32m━━━━━━━━━━━━━━━━━━━━\u001b[0m\u001b[37m\u001b[0m \u001b[1m0s\u001b[0m 2ms/step - accuracy: 0.9244 - loss: 0.2239 - recall: 0.8668 - val_accuracy: 0.9031 - val_loss: 0.3067 - val_recall: 0.7912\n",
      "Epoch 105/1000\n",
      "\u001b[1m92/92\u001b[0m \u001b[32m━━━━━━━━━━━━━━━━━━━━\u001b[0m\u001b[37m\u001b[0m \u001b[1m0s\u001b[0m 2ms/step - accuracy: 0.9371 - loss: 0.2009 - recall: 0.8827 - val_accuracy: 0.8992 - val_loss: 0.3071 - val_recall: 0.8022\n",
      "Epoch 106/1000\n",
      "\u001b[1m92/92\u001b[0m \u001b[32m━━━━━━━━━━━━━━━━━━━━\u001b[0m\u001b[37m\u001b[0m \u001b[1m0s\u001b[0m 2ms/step - accuracy: 0.9421 - loss: 0.2042 - recall: 0.8950 - val_accuracy: 0.8992 - val_loss: 0.3054 - val_recall: 0.8022\n",
      "Epoch 107/1000\n",
      "\u001b[1m92/92\u001b[0m \u001b[32m━━━━━━━━━━━━━━━━━━━━\u001b[0m\u001b[37m\u001b[0m \u001b[1m0s\u001b[0m 2ms/step - accuracy: 0.9356 - loss: 0.2208 - recall: 0.8995 - val_accuracy: 0.8992 - val_loss: 0.3031 - val_recall: 0.8022\n",
      "Epoch 108/1000\n",
      "\u001b[1m92/92\u001b[0m \u001b[32m━━━━━━━━━━━━━━━━━━━━\u001b[0m\u001b[37m\u001b[0m \u001b[1m0s\u001b[0m 2ms/step - accuracy: 0.9365 - loss: 0.2263 - recall: 0.8845 - val_accuracy: 0.8992 - val_loss: 0.3050 - val_recall: 0.8022\n",
      "Epoch 109/1000\n",
      "\u001b[1m92/92\u001b[0m \u001b[32m━━━━━━━━━━━━━━━━━━━━\u001b[0m\u001b[37m\u001b[0m \u001b[1m0s\u001b[0m 2ms/step - accuracy: 0.9345 - loss: 0.2192 - recall: 0.8857 - val_accuracy: 0.8992 - val_loss: 0.3016 - val_recall: 0.8022\n",
      "Epoch 110/1000\n",
      "\u001b[1m92/92\u001b[0m \u001b[32m━━━━━━━━━━━━━━━━━━━━\u001b[0m\u001b[37m\u001b[0m \u001b[1m0s\u001b[0m 2ms/step - accuracy: 0.9315 - loss: 0.2343 - recall: 0.8855 - val_accuracy: 0.8992 - val_loss: 0.3055 - val_recall: 0.7912\n",
      "Epoch 111/1000\n",
      "\u001b[1m92/92\u001b[0m \u001b[32m━━━━━━━━━━━━━━━━━━━━\u001b[0m\u001b[37m\u001b[0m \u001b[1m0s\u001b[0m 2ms/step - accuracy: 0.9341 - loss: 0.2261 - recall: 0.8844 - val_accuracy: 0.9031 - val_loss: 0.3038 - val_recall: 0.7912\n",
      "Epoch 112/1000\n",
      "\u001b[1m92/92\u001b[0m \u001b[32m━━━━━━━━━━━━━━━━━━━━\u001b[0m\u001b[37m\u001b[0m \u001b[1m0s\u001b[0m 2ms/step - accuracy: 0.9265 - loss: 0.2490 - recall: 0.8754 - val_accuracy: 0.9031 - val_loss: 0.3038 - val_recall: 0.7912\n",
      "Epoch 113/1000\n",
      "\u001b[1m92/92\u001b[0m \u001b[32m━━━━━━━━━━━━━━━━━━━━\u001b[0m\u001b[37m\u001b[0m \u001b[1m0s\u001b[0m 2ms/step - accuracy: 0.9367 - loss: 0.2079 - recall: 0.8824 - val_accuracy: 0.8992 - val_loss: 0.3040 - val_recall: 0.7912\n",
      "Epoch 114/1000\n",
      "\u001b[1m92/92\u001b[0m \u001b[32m━━━━━━━━━━━━━━━━━━━━\u001b[0m\u001b[37m\u001b[0m \u001b[1m0s\u001b[0m 2ms/step - accuracy: 0.9452 - loss: 0.2231 - recall: 0.8928 - val_accuracy: 0.8953 - val_loss: 0.3005 - val_recall: 0.7912\n",
      "Epoch 115/1000\n",
      "\u001b[1m92/92\u001b[0m \u001b[32m━━━━━━━━━━━━━━━━━━━━\u001b[0m\u001b[37m\u001b[0m \u001b[1m0s\u001b[0m 2ms/step - accuracy: 0.9361 - loss: 0.2257 - recall: 0.8984 - val_accuracy: 0.9031 - val_loss: 0.3029 - val_recall: 0.8022\n",
      "Epoch 116/1000\n",
      "\u001b[1m92/92\u001b[0m \u001b[32m━━━━━━━━━━━━━━━━━━━━\u001b[0m\u001b[37m\u001b[0m \u001b[1m0s\u001b[0m 2ms/step - accuracy: 0.9212 - loss: 0.2593 - recall: 0.8559 - val_accuracy: 0.9031 - val_loss: 0.3013 - val_recall: 0.7912\n",
      "Epoch 117/1000\n",
      "\u001b[1m92/92\u001b[0m \u001b[32m━━━━━━━━━━━━━━━━━━━━\u001b[0m\u001b[37m\u001b[0m \u001b[1m0s\u001b[0m 2ms/step - accuracy: 0.9342 - loss: 0.2145 - recall: 0.8932 - val_accuracy: 0.8992 - val_loss: 0.3006 - val_recall: 0.7912\n",
      "Epoch 118/1000\n",
      "\u001b[1m92/92\u001b[0m \u001b[32m━━━━━━━━━━━━━━━━━━━━\u001b[0m\u001b[37m\u001b[0m \u001b[1m0s\u001b[0m 2ms/step - accuracy: 0.9419 - loss: 0.2097 - recall: 0.8863 - val_accuracy: 0.9031 - val_loss: 0.3000 - val_recall: 0.7912\n",
      "Epoch 119/1000\n",
      "\u001b[1m92/92\u001b[0m \u001b[32m━━━━━━━━━━━━━━━━━━━━\u001b[0m\u001b[37m\u001b[0m \u001b[1m0s\u001b[0m 2ms/step - accuracy: 0.9257 - loss: 0.2313 - recall: 0.8694 - val_accuracy: 0.9031 - val_loss: 0.2999 - val_recall: 0.7912\n",
      "Epoch 120/1000\n",
      "\u001b[1m92/92\u001b[0m \u001b[32m━━━━━━━━━━━━━━━━━━━━\u001b[0m\u001b[37m\u001b[0m \u001b[1m0s\u001b[0m 2ms/step - accuracy: 0.9331 - loss: 0.2247 - recall: 0.8898 - val_accuracy: 0.8992 - val_loss: 0.2981 - val_recall: 0.7912\n",
      "Epoch 121/1000\n",
      "\u001b[1m92/92\u001b[0m \u001b[32m━━━━━━━━━━━━━━━━━━━━\u001b[0m\u001b[37m\u001b[0m \u001b[1m0s\u001b[0m 2ms/step - accuracy: 0.9393 - loss: 0.1990 - recall: 0.9009 - val_accuracy: 0.9031 - val_loss: 0.2978 - val_recall: 0.8022\n",
      "Epoch 122/1000\n",
      "\u001b[1m92/92\u001b[0m \u001b[32m━━━━━━━━━━━━━━━━━━━━\u001b[0m\u001b[37m\u001b[0m \u001b[1m0s\u001b[0m 2ms/step - accuracy: 0.9353 - loss: 0.2087 - recall: 0.8863 - val_accuracy: 0.8992 - val_loss: 0.2976 - val_recall: 0.7912\n",
      "Epoch 123/1000\n",
      "\u001b[1m92/92\u001b[0m \u001b[32m━━━━━━━━━━━━━━━━━━━━\u001b[0m\u001b[37m\u001b[0m \u001b[1m0s\u001b[0m 2ms/step - accuracy: 0.9394 - loss: 0.2032 - recall: 0.9023 - val_accuracy: 0.9031 - val_loss: 0.3012 - val_recall: 0.7912\n",
      "Epoch 124/1000\n",
      "\u001b[1m92/92\u001b[0m \u001b[32m━━━━━━━━━━━━━━━━━━━━\u001b[0m\u001b[37m\u001b[0m \u001b[1m0s\u001b[0m 2ms/step - accuracy: 0.9470 - loss: 0.1881 - recall: 0.8958 - val_accuracy: 0.8992 - val_loss: 0.2988 - val_recall: 0.7912\n",
      "Epoch 125/1000\n",
      "\u001b[1m92/92\u001b[0m \u001b[32m━━━━━━━━━━━━━━━━━━━━\u001b[0m\u001b[37m\u001b[0m \u001b[1m0s\u001b[0m 2ms/step - accuracy: 0.9299 - loss: 0.2173 - recall: 0.8948 - val_accuracy: 0.8992 - val_loss: 0.2969 - val_recall: 0.7912\n",
      "Epoch 126/1000\n",
      "\u001b[1m92/92\u001b[0m \u001b[32m━━━━━━━━━━━━━━━━━━━━\u001b[0m\u001b[37m\u001b[0m \u001b[1m0s\u001b[0m 2ms/step - accuracy: 0.9376 - loss: 0.2146 - recall: 0.8972 - val_accuracy: 0.8992 - val_loss: 0.2946 - val_recall: 0.8022\n",
      "Epoch 127/1000\n",
      "\u001b[1m92/92\u001b[0m \u001b[32m━━━━━━━━━━━━━━━━━━━━\u001b[0m\u001b[37m\u001b[0m \u001b[1m0s\u001b[0m 2ms/step - accuracy: 0.9495 - loss: 0.1801 - recall: 0.9156 - val_accuracy: 0.8992 - val_loss: 0.2978 - val_recall: 0.7912\n",
      "Epoch 128/1000\n",
      "\u001b[1m92/92\u001b[0m \u001b[32m━━━━━━━━━━━━━━━━━━━━\u001b[0m\u001b[37m\u001b[0m \u001b[1m0s\u001b[0m 2ms/step - accuracy: 0.9267 - loss: 0.2461 - recall: 0.8679 - val_accuracy: 0.9031 - val_loss: 0.2965 - val_recall: 0.8022\n",
      "Epoch 129/1000\n",
      "\u001b[1m92/92\u001b[0m \u001b[32m━━━━━━━━━━━━━━━━━━━━\u001b[0m\u001b[37m\u001b[0m \u001b[1m0s\u001b[0m 2ms/step - accuracy: 0.9411 - loss: 0.2051 - recall: 0.9025 - val_accuracy: 0.9070 - val_loss: 0.2954 - val_recall: 0.8022\n",
      "Epoch 130/1000\n",
      "\u001b[1m92/92\u001b[0m \u001b[32m━━━━━━━━━━━━━━━━━━━━\u001b[0m\u001b[37m\u001b[0m \u001b[1m0s\u001b[0m 2ms/step - accuracy: 0.9524 - loss: 0.1985 - recall: 0.9063 - val_accuracy: 0.9031 - val_loss: 0.2948 - val_recall: 0.8022\n",
      "Epoch 131/1000\n",
      "\u001b[1m92/92\u001b[0m \u001b[32m━━━━━━━━━━━━━━━━━━━━\u001b[0m\u001b[37m\u001b[0m \u001b[1m0s\u001b[0m 2ms/step - accuracy: 0.9411 - loss: 0.1944 - recall: 0.8989 - val_accuracy: 0.9031 - val_loss: 0.2949 - val_recall: 0.8022\n",
      "Epoch 132/1000\n",
      "\u001b[1m92/92\u001b[0m \u001b[32m━━━━━━━━━━━━━━━━━━━━\u001b[0m\u001b[37m\u001b[0m \u001b[1m0s\u001b[0m 2ms/step - accuracy: 0.9407 - loss: 0.2218 - recall: 0.9011 - val_accuracy: 0.9031 - val_loss: 0.2947 - val_recall: 0.8022\n",
      "Epoch 133/1000\n",
      "\u001b[1m92/92\u001b[0m \u001b[32m━━━━━━━━━━━━━━━━━━━━\u001b[0m\u001b[37m\u001b[0m \u001b[1m0s\u001b[0m 2ms/step - accuracy: 0.9403 - loss: 0.2040 - recall: 0.9080 - val_accuracy: 0.9070 - val_loss: 0.2930 - val_recall: 0.8132\n",
      "Epoch 134/1000\n",
      "\u001b[1m92/92\u001b[0m \u001b[32m━━━━━━━━━━━━━━━━━━━━\u001b[0m\u001b[37m\u001b[0m \u001b[1m0s\u001b[0m 2ms/step - accuracy: 0.9327 - loss: 0.2410 - recall: 0.8917 - val_accuracy: 0.8992 - val_loss: 0.2976 - val_recall: 0.7912\n",
      "Epoch 135/1000\n",
      "\u001b[1m92/92\u001b[0m \u001b[32m━━━━━━━━━━━━━━━━━━━━\u001b[0m\u001b[37m\u001b[0m \u001b[1m0s\u001b[0m 2ms/step - accuracy: 0.9433 - loss: 0.1963 - recall: 0.9028 - val_accuracy: 0.9070 - val_loss: 0.2963 - val_recall: 0.8132\n",
      "Epoch 136/1000\n",
      "\u001b[1m92/92\u001b[0m \u001b[32m━━━━━━━━━━━━━━━━━━━━\u001b[0m\u001b[37m\u001b[0m \u001b[1m0s\u001b[0m 2ms/step - accuracy: 0.9452 - loss: 0.2038 - recall: 0.9104 - val_accuracy: 0.9109 - val_loss: 0.2926 - val_recall: 0.8242\n",
      "Epoch 137/1000\n",
      "\u001b[1m92/92\u001b[0m \u001b[32m━━━━━━━━━━━━━━━━━━━━\u001b[0m\u001b[37m\u001b[0m \u001b[1m0s\u001b[0m 2ms/step - accuracy: 0.9497 - loss: 0.2016 - recall: 0.9094 - val_accuracy: 0.9070 - val_loss: 0.2945 - val_recall: 0.8132\n",
      "Epoch 138/1000\n",
      "\u001b[1m92/92\u001b[0m \u001b[32m━━━━━━━━━━━━━━━━━━━━\u001b[0m\u001b[37m\u001b[0m \u001b[1m0s\u001b[0m 2ms/step - accuracy: 0.9562 - loss: 0.1784 - recall: 0.9119 - val_accuracy: 0.9109 - val_loss: 0.2903 - val_recall: 0.8242\n",
      "Epoch 139/1000\n",
      "\u001b[1m92/92\u001b[0m \u001b[32m━━━━━━━━━━━━━━━━━━━━\u001b[0m\u001b[37m\u001b[0m \u001b[1m0s\u001b[0m 2ms/step - accuracy: 0.9425 - loss: 0.2136 - recall: 0.9023 - val_accuracy: 0.9147 - val_loss: 0.2921 - val_recall: 0.8352\n",
      "Epoch 140/1000\n",
      "\u001b[1m92/92\u001b[0m \u001b[32m━━━━━━━━━━━━━━━━━━━━\u001b[0m\u001b[37m\u001b[0m \u001b[1m0s\u001b[0m 2ms/step - accuracy: 0.9491 - loss: 0.2124 - recall: 0.9175 - val_accuracy: 0.9070 - val_loss: 0.2953 - val_recall: 0.8132\n",
      "Epoch 141/1000\n",
      "\u001b[1m92/92\u001b[0m \u001b[32m━━━━━━━━━━━━━━━━━━━━\u001b[0m\u001b[37m\u001b[0m \u001b[1m0s\u001b[0m 2ms/step - accuracy: 0.9427 - loss: 0.2079 - recall: 0.8831 - val_accuracy: 0.9070 - val_loss: 0.2956 - val_recall: 0.8022\n",
      "Epoch 142/1000\n",
      "\u001b[1m92/92\u001b[0m \u001b[32m━━━━━━━━━━━━━━━━━━━━\u001b[0m\u001b[37m\u001b[0m \u001b[1m0s\u001b[0m 2ms/step - accuracy: 0.9481 - loss: 0.1768 - recall: 0.9175 - val_accuracy: 0.9147 - val_loss: 0.2893 - val_recall: 0.8352\n",
      "Epoch 143/1000\n",
      "\u001b[1m92/92\u001b[0m \u001b[32m━━━━━━━━━━━━━━━━━━━━\u001b[0m\u001b[37m\u001b[0m \u001b[1m0s\u001b[0m 2ms/step - accuracy: 0.9444 - loss: 0.2085 - recall: 0.9145 - val_accuracy: 0.9147 - val_loss: 0.2906 - val_recall: 0.8352\n",
      "Epoch 144/1000\n",
      "\u001b[1m92/92\u001b[0m \u001b[32m━━━━━━━━━━━━━━━━━━━━\u001b[0m\u001b[37m\u001b[0m \u001b[1m0s\u001b[0m 2ms/step - accuracy: 0.9351 - loss: 0.2280 - recall: 0.9018 - val_accuracy: 0.9147 - val_loss: 0.2869 - val_recall: 0.8352\n",
      "Epoch 145/1000\n",
      "\u001b[1m92/92\u001b[0m \u001b[32m━━━━━━━━━━━━━━━━━━━━\u001b[0m\u001b[37m\u001b[0m \u001b[1m0s\u001b[0m 2ms/step - accuracy: 0.9362 - loss: 0.2146 - recall: 0.9033 - val_accuracy: 0.9186 - val_loss: 0.2882 - val_recall: 0.8352\n",
      "Epoch 146/1000\n",
      "\u001b[1m92/92\u001b[0m \u001b[32m━━━━━━━━━━━━━━━━━━━━\u001b[0m\u001b[37m\u001b[0m \u001b[1m0s\u001b[0m 2ms/step - accuracy: 0.9444 - loss: 0.2089 - recall: 0.8995 - val_accuracy: 0.9070 - val_loss: 0.2929 - val_recall: 0.8022\n",
      "Epoch 147/1000\n",
      "\u001b[1m92/92\u001b[0m \u001b[32m━━━━━━━━━━━━━━━━━━━━\u001b[0m\u001b[37m\u001b[0m \u001b[1m0s\u001b[0m 2ms/step - accuracy: 0.9436 - loss: 0.1918 - recall: 0.9001 - val_accuracy: 0.9109 - val_loss: 0.2892 - val_recall: 0.8242\n",
      "Epoch 148/1000\n",
      "\u001b[1m92/92\u001b[0m \u001b[32m━━━━━━━━━━━━━━━━━━━━\u001b[0m\u001b[37m\u001b[0m \u001b[1m0s\u001b[0m 2ms/step - accuracy: 0.9479 - loss: 0.1950 - recall: 0.9179 - val_accuracy: 0.9070 - val_loss: 0.2926 - val_recall: 0.8132\n",
      "Epoch 149/1000\n",
      "\u001b[1m92/92\u001b[0m \u001b[32m━━━━━━━━━━━━━━━━━━━━\u001b[0m\u001b[37m\u001b[0m \u001b[1m0s\u001b[0m 3ms/step - accuracy: 0.9483 - loss: 0.1935 - recall: 0.9096 - val_accuracy: 0.8992 - val_loss: 0.2934 - val_recall: 0.7912\n",
      "Epoch 150/1000\n",
      "\u001b[1m92/92\u001b[0m \u001b[32m━━━━━━━━━━━━━━━━━━━━\u001b[0m\u001b[37m\u001b[0m \u001b[1m0s\u001b[0m 2ms/step - accuracy: 0.9403 - loss: 0.2176 - recall: 0.8841 - val_accuracy: 0.9147 - val_loss: 0.2877 - val_recall: 0.8352\n",
      "Epoch 151/1000\n",
      "\u001b[1m92/92\u001b[0m \u001b[32m━━━━━━━━━━━━━━━━━━━━\u001b[0m\u001b[37m\u001b[0m \u001b[1m0s\u001b[0m 2ms/step - accuracy: 0.9377 - loss: 0.2283 - recall: 0.8935 - val_accuracy: 0.9109 - val_loss: 0.2896 - val_recall: 0.8242\n",
      "Epoch 152/1000\n",
      "\u001b[1m92/92\u001b[0m \u001b[32m━━━━━━━━━━━━━━━━━━━━\u001b[0m\u001b[37m\u001b[0m \u001b[1m0s\u001b[0m 2ms/step - accuracy: 0.9550 - loss: 0.1733 - recall: 0.9179 - val_accuracy: 0.9147 - val_loss: 0.2864 - val_recall: 0.8352\n",
      "Epoch 153/1000\n",
      "\u001b[1m92/92\u001b[0m \u001b[32m━━━━━━━━━━━━━━━━━━━━\u001b[0m\u001b[37m\u001b[0m \u001b[1m0s\u001b[0m 2ms/step - accuracy: 0.9345 - loss: 0.2275 - recall: 0.8883 - val_accuracy: 0.9147 - val_loss: 0.2851 - val_recall: 0.8352\n",
      "Epoch 154/1000\n",
      "\u001b[1m92/92\u001b[0m \u001b[32m━━━━━━━━━━━━━━━━━━━━\u001b[0m\u001b[37m\u001b[0m \u001b[1m0s\u001b[0m 2ms/step - accuracy: 0.9479 - loss: 0.1946 - recall: 0.9030 - val_accuracy: 0.9147 - val_loss: 0.2860 - val_recall: 0.8352\n",
      "Epoch 155/1000\n",
      "\u001b[1m92/92\u001b[0m \u001b[32m━━━━━━━━━━━━━━━━━━━━\u001b[0m\u001b[37m\u001b[0m \u001b[1m0s\u001b[0m 2ms/step - accuracy: 0.9513 - loss: 0.2094 - recall: 0.9248 - val_accuracy: 0.9147 - val_loss: 0.2854 - val_recall: 0.8352\n",
      "Epoch 156/1000\n",
      "\u001b[1m92/92\u001b[0m \u001b[32m━━━━━━━━━━━━━━━━━━━━\u001b[0m\u001b[37m\u001b[0m \u001b[1m0s\u001b[0m 2ms/step - accuracy: 0.9524 - loss: 0.1829 - recall: 0.9197 - val_accuracy: 0.9147 - val_loss: 0.2874 - val_recall: 0.8352\n",
      "Epoch 157/1000\n",
      "\u001b[1m92/92\u001b[0m \u001b[32m━━━━━━━━━━━━━━━━━━━━\u001b[0m\u001b[37m\u001b[0m \u001b[1m0s\u001b[0m 2ms/step - accuracy: 0.9455 - loss: 0.1981 - recall: 0.9083 - val_accuracy: 0.9147 - val_loss: 0.2855 - val_recall: 0.8352\n",
      "Epoch 158/1000\n",
      "\u001b[1m92/92\u001b[0m \u001b[32m━━━━━━━━━━━━━━━━━━━━\u001b[0m\u001b[37m\u001b[0m \u001b[1m0s\u001b[0m 2ms/step - accuracy: 0.9456 - loss: 0.2078 - recall: 0.9162 - val_accuracy: 0.9147 - val_loss: 0.2875 - val_recall: 0.8352\n",
      "Epoch 159/1000\n",
      "\u001b[1m92/92\u001b[0m \u001b[32m━━━━━━━━━━━━━━━━━━━━\u001b[0m\u001b[37m\u001b[0m \u001b[1m0s\u001b[0m 2ms/step - accuracy: 0.9396 - loss: 0.2103 - recall: 0.8872 - val_accuracy: 0.9147 - val_loss: 0.2858 - val_recall: 0.8352\n",
      "Epoch 160/1000\n",
      "\u001b[1m92/92\u001b[0m \u001b[32m━━━━━━━━━━━━━━━━━━━━\u001b[0m\u001b[37m\u001b[0m \u001b[1m0s\u001b[0m 2ms/step - accuracy: 0.9474 - loss: 0.1949 - recall: 0.9160 - val_accuracy: 0.9147 - val_loss: 0.2873 - val_recall: 0.8352\n",
      "Epoch 161/1000\n",
      "\u001b[1m92/92\u001b[0m \u001b[32m━━━━━━━━━━━━━━━━━━━━\u001b[0m\u001b[37m\u001b[0m \u001b[1m0s\u001b[0m 2ms/step - accuracy: 0.9481 - loss: 0.2160 - recall: 0.8997 - val_accuracy: 0.9147 - val_loss: 0.2858 - val_recall: 0.8352\n",
      "Epoch 162/1000\n",
      "\u001b[1m92/92\u001b[0m \u001b[32m━━━━━━━━━━━━━━━━━━━━\u001b[0m\u001b[37m\u001b[0m \u001b[1m0s\u001b[0m 2ms/step - accuracy: 0.9524 - loss: 0.1947 - recall: 0.9208 - val_accuracy: 0.9147 - val_loss: 0.2889 - val_recall: 0.8242\n",
      "Epoch 163/1000\n",
      "\u001b[1m92/92\u001b[0m \u001b[32m━━━━━━━━━━━━━━━━━━━━\u001b[0m\u001b[37m\u001b[0m \u001b[1m0s\u001b[0m 2ms/step - accuracy: 0.9441 - loss: 0.2022 - recall: 0.9013 - val_accuracy: 0.9109 - val_loss: 0.2888 - val_recall: 0.8242\n"
     ]
    }
   ],
   "source": [
    "layers = [\n",
    "    keras.layers.Input(shape=x1_train.shape[1:]),\n",
    "    keras.layers.Flatten(),\n",
    "    keras.layers.Dense(units = 300, activation='relu'),\n",
    "    keras.layers.Dense(units = 100, activation='relu'),\n",
    "    keras.layers.Dense(units = 1, activation='sigmoid')\n",
    "]\n",
    "\n",
    "model = keras.models.Sequential(layers)\n",
    "model.compile(\n",
    "    optimizer = \"sgd\",\n",
    "    loss = \"binary_crossentropy\",\n",
    "    metrics = ['accuracy',\"recall\"] #\n",
    ")\n",
    "#y1_train_np = np.array(y1_train).flatten()\n",
    "#class_weights = {0: 1, 1: len(y1_train_np) / sum(y1_train_np == 1)}\n",
    "history = model.fit(\n",
    "    x1_train,\n",
    "    y1_train,\n",
    "    batch_size = 16,\n",
    "    epochs = 1000,\n",
    "    validation_data = (x1_val,y1_val),\n",
    "    callbacks=keras.callbacks.EarlyStopping(patience=10),\n",
    "    #class_weight = class_weights\n",
    ")"
   ]
  },
  {
   "cell_type": "code",
   "execution_count": 79,
   "metadata": {},
   "outputs": [
    {
     "name": "stdout",
     "output_type": "stream",
     "text": [
      "\u001b[1m14/14\u001b[0m \u001b[32m━━━━━━━━━━━━━━━━━━━━\u001b[0m\u001b[37m\u001b[0m \u001b[1m0s\u001b[0m 5ms/step\n"
     ]
    }
   ],
   "source": [
    "pred = model.predict(x1_test)"
   ]
  },
  {
   "cell_type": "code",
   "execution_count": 81,
   "metadata": {},
   "outputs": [
    {
     "name": "stdout",
     "output_type": "stream",
     "text": [
      "\u001b[1m14/14\u001b[0m \u001b[32m━━━━━━━━━━━━━━━━━━━━\u001b[0m\u001b[37m\u001b[0m \u001b[1m0s\u001b[0m 2ms/step - accuracy: 0.9091 - loss: 0.2789 - recall: 0.8960\n"
     ]
    },
    {
     "data": {
      "text/plain": [
       "[0.2563968300819397, 0.9209302067756653, 0.875]"
      ]
     },
     "execution_count": 81,
     "metadata": {},
     "output_type": "execute_result"
    }
   ],
   "source": [
    "model.evaluate(x1_test, y1_test)"
   ]
  },
  {
   "cell_type": "code",
   "execution_count": 82,
   "metadata": {},
   "outputs": [
    {
     "data": {
      "text/plain": [
       "0.9209302325581395"
      ]
     },
     "execution_count": 82,
     "metadata": {},
     "output_type": "execute_result"
    }
   ],
   "source": [
    "accuracy_score(y1_test, pred.round()) #,normalize='pred'"
   ]
  },
  {
   "cell_type": "code",
   "execution_count": 83,
   "metadata": {},
   "outputs": [
    {
     "data": {
      "text/plain": [
       "np.float64(0.9209302325581395)"
      ]
     },
     "execution_count": 83,
     "metadata": {},
     "output_type": "execute_result"
    }
   ],
   "source": [
    "recall_score(y1_test, pred.round(),average='weighted')"
   ]
  },
  {
   "cell_type": "code",
   "execution_count": 84,
   "metadata": {},
   "outputs": [
    {
     "data": {
      "text/plain": [
       "np.float64(0.9105215827338129)"
      ]
     },
     "execution_count": 84,
     "metadata": {},
     "output_type": "execute_result"
    }
   ],
   "source": [
    "roc_auc_score(y1_test, pred.round(),average='weighted')"
   ]
  },
  {
   "cell_type": "code",
   "execution_count": 27,
   "metadata": {},
   "outputs": [
    {
     "data": {
      "text/html": [
       "<div>\n",
       "<style scoped>\n",
       "    .dataframe tbody tr th:only-of-type {\n",
       "        vertical-align: middle;\n",
       "    }\n",
       "\n",
       "    .dataframe tbody tr th {\n",
       "        vertical-align: top;\n",
       "    }\n",
       "\n",
       "    .dataframe thead th {\n",
       "        text-align: right;\n",
       "    }\n",
       "</style>\n",
       "<table border=\"1\" class=\"dataframe\">\n",
       "  <thead>\n",
       "    <tr style=\"text-align: right;\">\n",
       "      <th></th>\n",
       "      <th>MMSE</th>\n",
       "      <th>FunctionalAssessment</th>\n",
       "      <th>MemoryComplaints</th>\n",
       "      <th>BehavioralProblems</th>\n",
       "      <th>ADL</th>\n",
       "      <th>Diagnosis</th>\n",
       "    </tr>\n",
       "    <tr>\n",
       "      <th>PatientID</th>\n",
       "      <th></th>\n",
       "      <th></th>\n",
       "      <th></th>\n",
       "      <th></th>\n",
       "      <th></th>\n",
       "      <th></th>\n",
       "    </tr>\n",
       "  </thead>\n",
       "  <tbody>\n",
       "    <tr>\n",
       "      <th>4751</th>\n",
       "      <td>21.463532</td>\n",
       "      <td>6.518877</td>\n",
       "      <td>0</td>\n",
       "      <td>0</td>\n",
       "      <td>1.725883</td>\n",
       "      <td>0</td>\n",
       "    </tr>\n",
       "    <tr>\n",
       "      <th>4752</th>\n",
       "      <td>20.613267</td>\n",
       "      <td>7.118696</td>\n",
       "      <td>0</td>\n",
       "      <td>0</td>\n",
       "      <td>2.592424</td>\n",
       "      <td>0</td>\n",
       "    </tr>\n",
       "    <tr>\n",
       "      <th>4753</th>\n",
       "      <td>7.356249</td>\n",
       "      <td>5.895077</td>\n",
       "      <td>0</td>\n",
       "      <td>0</td>\n",
       "      <td>7.119548</td>\n",
       "      <td>0</td>\n",
       "    </tr>\n",
       "    <tr>\n",
       "      <th>4754</th>\n",
       "      <td>13.991127</td>\n",
       "      <td>8.965106</td>\n",
       "      <td>0</td>\n",
       "      <td>1</td>\n",
       "      <td>6.481226</td>\n",
       "      <td>0</td>\n",
       "    </tr>\n",
       "    <tr>\n",
       "      <th>4755</th>\n",
       "      <td>13.517609</td>\n",
       "      <td>6.045039</td>\n",
       "      <td>0</td>\n",
       "      <td>0</td>\n",
       "      <td>0.014691</td>\n",
       "      <td>0</td>\n",
       "    </tr>\n",
       "  </tbody>\n",
       "</table>\n",
       "</div>"
      ],
      "text/plain": [
       "                MMSE  FunctionalAssessment  MemoryComplaints  \\\n",
       "PatientID                                                      \n",
       "4751       21.463532              6.518877                 0   \n",
       "4752       20.613267              7.118696                 0   \n",
       "4753        7.356249              5.895077                 0   \n",
       "4754       13.991127              8.965106                 0   \n",
       "4755       13.517609              6.045039                 0   \n",
       "\n",
       "           BehavioralProblems       ADL  Diagnosis  \n",
       "PatientID                                           \n",
       "4751                        0  1.725883          0  \n",
       "4752                        0  2.592424          0  \n",
       "4753                        0  7.119548          0  \n",
       "4754                        1  6.481226          0  \n",
       "4755                        0  0.014691          0  "
      ]
     },
     "execution_count": 27,
     "metadata": {},
     "output_type": "execute_result"
    }
   ],
   "source": [
    "alz_3b.head()"
   ]
  },
  {
   "cell_type": "code",
   "execution_count": 19,
   "metadata": {},
   "outputs": [
    {
     "data": {
      "text/plain": [
       "array([[-1.52581182,  0.87057639, -0.51046004, -0.41765692,  0.31069247],\n",
       "       [ 0.88998419,  0.10193886, -0.51046004, -0.41765692, -0.00653084],\n",
       "       [-0.8033478 ,  0.23896236,  1.95901719, -0.41765692,  0.69713778],\n",
       "       ...,\n",
       "       [ 1.53698846,  0.63393449, -0.51046004, -0.41765692, -1.55792193],\n",
       "       [-1.71370962, -0.63337908, -0.51046004, -0.41765692, -0.1383277 ],\n",
       "       [ 0.43542546, -0.14655547,  1.95901719, -0.41765692, -1.16920224]])"
      ]
     },
     "execution_count": 19,
     "metadata": {},
     "output_type": "execute_result"
    }
   ],
   "source": [
    "x1_train"
   ]
  },
  {
   "cell_type": "code",
   "execution_count": 28,
   "metadata": {},
   "outputs": [
    {
     "data": {
      "text/plain": [
       "PatientID\n",
       "5037    0\n",
       "5173    0\n",
       "5812    0\n",
       "6284    0\n",
       "5363    1\n",
       "       ..\n",
       "4803    0\n",
       "6263    0\n",
       "5105    0\n",
       "6860    0\n",
       "4996    1\n",
       "Name: Diagnosis, Length: 1461, dtype: int64"
      ]
     },
     "execution_count": 28,
     "metadata": {},
     "output_type": "execute_result"
    }
   ],
   "source": [
    "y1_train"
   ]
  },
  {
   "cell_type": "code",
   "execution_count": 29,
   "metadata": {},
   "outputs": [
    {
     "data": {
      "text/plain": [
       "array([[-0.09604496, -1.30809413, -0.51046004, -0.41765692, -0.98749752],\n",
       "       [-1.17173722,  0.89545199, -0.51046004, -0.41765692, -0.59633045],\n",
       "       [ 0.25222402, -1.40784416,  1.95901719, -0.41765692,  0.06173593],\n",
       "       ...,\n",
       "       [-0.23594164, -0.64226318, -0.51046004, -0.41765692, -1.59727151],\n",
       "       [ 0.87391962,  0.22926522,  1.95901719, -0.41765692,  0.21920641],\n",
       "       [-1.58806241,  0.22816292, -0.51046004, -0.41765692,  0.32175647]])"
      ]
     },
     "execution_count": 29,
     "metadata": {},
     "output_type": "execute_result"
    }
   ],
   "source": [
    "x1_test"
   ]
  },
  {
   "cell_type": "code",
   "execution_count": 30,
   "metadata": {},
   "outputs": [
    {
     "data": {
      "text/plain": [
       "PatientID\n",
       "5202    1\n",
       "6831    1\n",
       "6407    1\n",
       "5821    1\n",
       "5581    1\n",
       "       ..\n",
       "6548    0\n",
       "6175    0\n",
       "4859    1\n",
       "6567    0\n",
       "4913    0\n",
       "Name: Diagnosis, Length: 430, dtype: int64"
      ]
     },
     "execution_count": 30,
     "metadata": {},
     "output_type": "execute_result"
    }
   ],
   "source": [
    "y1_test"
   ]
  },
  {
   "cell_type": "code",
   "execution_count": 45,
   "metadata": {},
   "outputs": [
    {
     "name": "stdout",
     "output_type": "stream",
     "text": [
      "\u001b[1m14/14\u001b[0m \u001b[32m━━━━━━━━━━━━━━━━━━━━\u001b[0m\u001b[37m\u001b[0m \u001b[1m0s\u001b[0m 2ms/step \n"
     ]
    },
    {
     "data": {
      "text/plain": [
       "array([[0.9772983 ],\n",
       "       [0.02321894],\n",
       "       [0.9844667 ],\n",
       "       [0.47645706],\n",
       "       [0.99961513],\n",
       "       [0.03584076],\n",
       "       [0.9501687 ],\n",
       "       [0.03414219],\n",
       "       [0.03218903],\n",
       "       [0.996937  ],\n",
       "       [0.03090922],\n",
       "       [0.9778564 ],\n",
       "       [0.01329451],\n",
       "       [0.7705607 ],\n",
       "       [0.1200042 ],\n",
       "       [0.01322803],\n",
       "       [0.02033255],\n",
       "       [0.02070368],\n",
       "       [0.031251  ],\n",
       "       [0.9847618 ],\n",
       "       [0.5244626 ],\n",
       "       [0.6175678 ],\n",
       "       [0.01683419],\n",
       "       [0.89893806],\n",
       "       [0.612797  ],\n",
       "       [0.49752712],\n",
       "       [0.8008729 ],\n",
       "       [0.94124526],\n",
       "       [0.07396176],\n",
       "       [0.02051582],\n",
       "       [0.06409417],\n",
       "       [0.9983246 ],\n",
       "       [0.04648422],\n",
       "       [0.04824806],\n",
       "       [0.7195949 ],\n",
       "       [0.04411293],\n",
       "       [0.00988217],\n",
       "       [0.03456977],\n",
       "       [0.9815368 ],\n",
       "       [0.9722634 ],\n",
       "       [0.92528975],\n",
       "       [0.0672225 ],\n",
       "       [0.501039  ],\n",
       "       [0.09417542],\n",
       "       [0.99923694],\n",
       "       [0.6001875 ],\n",
       "       [0.9987117 ],\n",
       "       [0.04190479],\n",
       "       [0.63450766],\n",
       "       [0.01769699],\n",
       "       [0.00746005],\n",
       "       [0.9929166 ],\n",
       "       [0.03672653],\n",
       "       [0.08499293],\n",
       "       [0.9318992 ],\n",
       "       [0.02445705],\n",
       "       [0.00620539],\n",
       "       [0.01027643],\n",
       "       [0.8958927 ],\n",
       "       [0.87271947],\n",
       "       [0.9569674 ],\n",
       "       [0.5313858 ],\n",
       "       [0.04670049],\n",
       "       [0.8424979 ],\n",
       "       [0.49003404],\n",
       "       [0.9962342 ],\n",
       "       [0.00518961],\n",
       "       [0.5153741 ],\n",
       "       [0.01900018],\n",
       "       [0.02240145],\n",
       "       [0.03976947],\n",
       "       [0.01413939],\n",
       "       [0.08737724],\n",
       "       [0.97784716],\n",
       "       [0.09737996],\n",
       "       [0.19701135],\n",
       "       [0.99503785],\n",
       "       [0.0206656 ],\n",
       "       [0.5045395 ],\n",
       "       [0.99993294],\n",
       "       [0.66654813],\n",
       "       [0.93099654],\n",
       "       [0.02538382],\n",
       "       [0.8814277 ],\n",
       "       [0.01495321],\n",
       "       [0.70441544],\n",
       "       [0.47014382],\n",
       "       [0.04013264],\n",
       "       [0.01565298],\n",
       "       [0.00688161],\n",
       "       [0.5638094 ],\n",
       "       [0.9985698 ],\n",
       "       [0.06884906],\n",
       "       [0.00544768],\n",
       "       [0.04885422],\n",
       "       [0.76369023],\n",
       "       [0.83902705],\n",
       "       [0.54028386],\n",
       "       [0.02970645],\n",
       "       [0.9952716 ],\n",
       "       [0.01187185],\n",
       "       [0.74458313],\n",
       "       [0.05757631],\n",
       "       [0.9765322 ],\n",
       "       [0.00823742],\n",
       "       [0.0470767 ],\n",
       "       [0.20816736],\n",
       "       [0.01303096],\n",
       "       [0.9740641 ],\n",
       "       [0.11122251],\n",
       "       [0.8109869 ],\n",
       "       [0.97612447],\n",
       "       [0.02025304],\n",
       "       [0.00998067],\n",
       "       [0.8817066 ],\n",
       "       [0.9892803 ],\n",
       "       [0.05116921],\n",
       "       [0.10016578],\n",
       "       [0.2534423 ],\n",
       "       [0.01450817],\n",
       "       [0.9939391 ],\n",
       "       [0.00872864],\n",
       "       [0.610646  ],\n",
       "       [0.39693472],\n",
       "       [0.00410787],\n",
       "       [0.0778337 ],\n",
       "       [0.02319198],\n",
       "       [0.01198303],\n",
       "       [0.90926176],\n",
       "       [0.7523365 ],\n",
       "       [0.02323095],\n",
       "       [0.99244213],\n",
       "       [0.8100952 ],\n",
       "       [0.01120807],\n",
       "       [0.3414753 ],\n",
       "       [0.04173958],\n",
       "       [0.03148597],\n",
       "       [0.02220865],\n",
       "       [0.04778232],\n",
       "       [0.04681747],\n",
       "       [0.94684947],\n",
       "       [0.26266462],\n",
       "       [0.99064696],\n",
       "       [0.9225853 ],\n",
       "       [0.01135474],\n",
       "       [0.03476224],\n",
       "       [0.12842414],\n",
       "       [0.00813253],\n",
       "       [0.01353013],\n",
       "       [0.9900184 ],\n",
       "       [0.9875016 ],\n",
       "       [0.01240674],\n",
       "       [0.55023694],\n",
       "       [0.9612026 ],\n",
       "       [0.11297899],\n",
       "       [0.03137554],\n",
       "       [0.00652915],\n",
       "       [0.04112572],\n",
       "       [0.05465758],\n",
       "       [0.01637675],\n",
       "       [0.01896761],\n",
       "       [0.9303191 ],\n",
       "       [0.26256207],\n",
       "       [0.9522995 ],\n",
       "       [0.06342281],\n",
       "       [0.00572626],\n",
       "       [0.02204297],\n",
       "       [0.01348979],\n",
       "       [0.12271299],\n",
       "       [0.07092129],\n",
       "       [0.9934651 ],\n",
       "       [0.99769384],\n",
       "       [0.28511032],\n",
       "       [0.02237183],\n",
       "       [0.08363698],\n",
       "       [0.7295703 ],\n",
       "       [0.13646092],\n",
       "       [0.65631044],\n",
       "       [0.02768794],\n",
       "       [0.01550871],\n",
       "       [0.07912348],\n",
       "       [0.03285463],\n",
       "       [0.03188174],\n",
       "       [0.4700641 ],\n",
       "       [0.99313945],\n",
       "       [0.9949297 ],\n",
       "       [0.01871258],\n",
       "       [0.03286018],\n",
       "       [0.8750584 ],\n",
       "       [0.68637353],\n",
       "       [0.0382845 ],\n",
       "       [0.01337026],\n",
       "       [0.03920442],\n",
       "       [0.02483307],\n",
       "       [0.9696475 ],\n",
       "       [0.05547807],\n",
       "       [0.90787387],\n",
       "       [0.00864412],\n",
       "       [0.0344264 ],\n",
       "       [0.04833278],\n",
       "       [0.92415917],\n",
       "       [0.06115896],\n",
       "       [0.6671543 ],\n",
       "       [0.99562854],\n",
       "       [0.95083016],\n",
       "       [0.01982244],\n",
       "       [0.3342615 ],\n",
       "       [0.01171431],\n",
       "       [0.7516911 ],\n",
       "       [0.04431376],\n",
       "       [0.92023677],\n",
       "       [0.90582836],\n",
       "       [0.20036228],\n",
       "       [0.01647436],\n",
       "       [0.8831645 ],\n",
       "       [0.10623501],\n",
       "       [0.01750528],\n",
       "       [0.00818757],\n",
       "       [0.7001438 ],\n",
       "       [0.95632076],\n",
       "       [0.97536904],\n",
       "       [0.25308615],\n",
       "       [0.0112329 ],\n",
       "       [0.7464714 ],\n",
       "       [0.01145018],\n",
       "       [0.00982678],\n",
       "       [0.00892169],\n",
       "       [0.04451395],\n",
       "       [0.9452382 ],\n",
       "       [0.06705578],\n",
       "       [0.9924876 ],\n",
       "       [0.6044355 ],\n",
       "       [0.47403315],\n",
       "       [0.16972548],\n",
       "       [0.42940924],\n",
       "       [0.9530637 ],\n",
       "       [0.01821411],\n",
       "       [0.7631772 ],\n",
       "       [0.07440671],\n",
       "       [0.00781992],\n",
       "       [0.98082596],\n",
       "       [0.01321043],\n",
       "       [0.41172177],\n",
       "       [0.99447   ],\n",
       "       [0.08993551],\n",
       "       [0.01518469],\n",
       "       [0.03197035],\n",
       "       [0.01493877],\n",
       "       [0.34113967],\n",
       "       [0.08280138],\n",
       "       [0.08754255],\n",
       "       [0.81503433],\n",
       "       [0.02627048],\n",
       "       [0.19238676],\n",
       "       [0.03927492],\n",
       "       [0.05094997],\n",
       "       [0.05211964],\n",
       "       [0.0372922 ],\n",
       "       [0.07612047],\n",
       "       [0.00656779],\n",
       "       [0.03886562],\n",
       "       [0.02845992],\n",
       "       [0.06854417],\n",
       "       [0.09628119],\n",
       "       [0.93253493],\n",
       "       [0.03033846],\n",
       "       [0.12446103],\n",
       "       [0.03790511],\n",
       "       [0.611554  ],\n",
       "       [0.03174261],\n",
       "       [0.0091639 ],\n",
       "       [0.9926386 ],\n",
       "       [0.9846626 ],\n",
       "       [0.03579392],\n",
       "       [0.8341986 ],\n",
       "       [0.48809347],\n",
       "       [0.0080132 ],\n",
       "       [0.04668052],\n",
       "       [0.00607098],\n",
       "       [0.01466396],\n",
       "       [0.04698413],\n",
       "       [0.02178646],\n",
       "       [0.9679571 ],\n",
       "       [0.04878364],\n",
       "       [0.00874609],\n",
       "       [0.27774402],\n",
       "       [0.05396566],\n",
       "       [0.99062914],\n",
       "       [0.00666612],\n",
       "       [0.03052879],\n",
       "       [0.9110272 ],\n",
       "       [0.00537653],\n",
       "       [0.7597815 ],\n",
       "       [0.01699275],\n",
       "       [0.07329497],\n",
       "       [0.02582086],\n",
       "       [0.03330828],\n",
       "       [0.04191184],\n",
       "       [0.0066985 ],\n",
       "       [0.0241469 ],\n",
       "       [0.03627231],\n",
       "       [0.00548466],\n",
       "       [0.9057183 ],\n",
       "       [0.24087672],\n",
       "       [0.00846458],\n",
       "       [0.09155329],\n",
       "       [0.8312304 ],\n",
       "       [0.01625719],\n",
       "       [0.04871935],\n",
       "       [0.02751078],\n",
       "       [0.03770381],\n",
       "       [0.01144746],\n",
       "       [0.96712613],\n",
       "       [0.99715424],\n",
       "       [0.9801226 ],\n",
       "       [0.99558383],\n",
       "       [0.96789706],\n",
       "       [0.05122956],\n",
       "       [0.771539  ],\n",
       "       [0.04982778],\n",
       "       [0.08486334],\n",
       "       [0.01982676],\n",
       "       [0.9561062 ],\n",
       "       [0.9953616 ],\n",
       "       [0.9924791 ],\n",
       "       [0.01470712],\n",
       "       [0.01684259],\n",
       "       [0.9936998 ],\n",
       "       [0.0122207 ],\n",
       "       [0.02119087],\n",
       "       [0.00689209],\n",
       "       [0.02020841],\n",
       "       [0.99094886],\n",
       "       [0.5371206 ],\n",
       "       [0.9770319 ],\n",
       "       [0.7833823 ],\n",
       "       [0.03511718],\n",
       "       [0.02715802],\n",
       "       [0.0112072 ],\n",
       "       [0.02685543],\n",
       "       [0.45106   ],\n",
       "       [0.00882313],\n",
       "       [0.8354954 ],\n",
       "       [0.66819125],\n",
       "       [0.87737256],\n",
       "       [0.00592516],\n",
       "       [0.05134642],\n",
       "       [0.03690673],\n",
       "       [0.9338446 ],\n",
       "       [0.38199028],\n",
       "       [0.9615172 ],\n",
       "       [0.03093278],\n",
       "       [0.97918016],\n",
       "       [0.04970972],\n",
       "       [0.0237882 ],\n",
       "       [0.04928951],\n",
       "       [0.01182619],\n",
       "       [0.03892536],\n",
       "       [0.03623159],\n",
       "       [0.9860616 ],\n",
       "       [0.9966462 ],\n",
       "       [0.52162755],\n",
       "       [0.17350435],\n",
       "       [0.3282083 ],\n",
       "       [0.1079711 ],\n",
       "       [0.03237955],\n",
       "       [0.01341504],\n",
       "       [0.98280907],\n",
       "       [0.9758371 ],\n",
       "       [0.55127   ],\n",
       "       [0.5808364 ],\n",
       "       [0.02131655],\n",
       "       [0.06328291],\n",
       "       [0.01274971],\n",
       "       [0.89355445],\n",
       "       [0.11118958],\n",
       "       [0.88898945],\n",
       "       [0.22159965],\n",
       "       [0.83086956],\n",
       "       [0.4721647 ],\n",
       "       [0.962296  ],\n",
       "       [0.42228836],\n",
       "       [0.02247119],\n",
       "       [0.03578392],\n",
       "       [0.97203773],\n",
       "       [0.0320626 ],\n",
       "       [0.61844516],\n",
       "       [0.7810235 ],\n",
       "       [0.01131296],\n",
       "       [0.17490526],\n",
       "       [0.02784536],\n",
       "       [0.14055538],\n",
       "       [0.998495  ],\n",
       "       [0.00717604],\n",
       "       [0.94084436],\n",
       "       [0.03639436],\n",
       "       [0.06076122],\n",
       "       [0.13140494],\n",
       "       [0.02572895],\n",
       "       [0.00664776],\n",
       "       [0.99399793],\n",
       "       [0.00724906],\n",
       "       [0.02864568],\n",
       "       [0.05227097],\n",
       "       [0.06144492],\n",
       "       [0.02575724],\n",
       "       [0.07061745],\n",
       "       [0.25627252],\n",
       "       [0.999664  ],\n",
       "       [0.65562314],\n",
       "       [0.39414757],\n",
       "       [0.0466083 ],\n",
       "       [0.9756666 ],\n",
       "       [0.05418217],\n",
       "       [0.03482508],\n",
       "       [0.04081983],\n",
       "       [0.9934789 ],\n",
       "       [0.91443557],\n",
       "       [0.03214352],\n",
       "       [0.02763046],\n",
       "       [0.01199887],\n",
       "       [0.19403718],\n",
       "       [0.33688298],\n",
       "       [0.00857617],\n",
       "       [0.03758946],\n",
       "       [0.03366013],\n",
       "       [0.04153367],\n",
       "       [0.9610437 ],\n",
       "       [0.40905195],\n",
       "       [0.03903646]], dtype=float32)"
      ]
     },
     "execution_count": 45,
     "metadata": {},
     "output_type": "execute_result"
    }
   ],
   "source": [
    "model.predict(x1_test)"
   ]
  },
  {
   "cell_type": "code",
   "execution_count": 46,
   "metadata": {},
   "outputs": [
    {
     "name": "stdout",
     "output_type": "stream",
     "text": [
      "\u001b[1m14/14\u001b[0m \u001b[32m━━━━━━━━━━━━━━━━━━━━\u001b[0m\u001b[37m\u001b[0m \u001b[1m0s\u001b[0m 1ms/step \n"
     ]
    }
   ],
   "source": [
    "pred = model.predict(x1_test)"
   ]
  },
  {
   "cell_type": "code",
   "execution_count": 43,
   "metadata": {},
   "outputs": [
    {
     "ename": "TypeError",
     "evalue": "type numpy.ndarray doesn't define __round__ method",
     "output_type": "error",
     "traceback": [
      "\u001b[1;31m---------------------------------------------------------------------------\u001b[0m",
      "\u001b[1;31mTypeError\u001b[0m                                 Traceback (most recent call last)",
      "Cell \u001b[1;32mIn[43], line 1\u001b[0m\n\u001b[1;32m----> 1\u001b[0m pred \u001b[38;5;241m=\u001b[39m \u001b[38;5;28;43mround\u001b[39;49m\u001b[43m(\u001b[49m\u001b[43mpred\u001b[49m\u001b[43m)\u001b[49m\n\u001b[0;32m      2\u001b[0m pred\n",
      "\u001b[1;31mTypeError\u001b[0m: type numpy.ndarray doesn't define __round__ method"
     ]
    }
   ],
   "source": [
    "pred = round(pred)\n",
    "pred"
   ]
  },
  {
   "cell_type": "code",
   "execution_count": 50,
   "metadata": {},
   "outputs": [
    {
     "data": {
      "text/plain": [
       "array([[258,  20],\n",
       "       [ 19, 133]])"
      ]
     },
     "execution_count": 50,
     "metadata": {},
     "output_type": "execute_result"
    }
   ],
   "source": [
    "confusion_matrix(y1_test, pred.round())"
   ]
  },
  {
   "cell_type": "code",
   "execution_count": 73,
   "metadata": {},
   "outputs": [],
   "source": [
    "model.save(\"../models/class/model_3.keras\")"
   ]
  },
  {
   "cell_type": "code",
   "execution_count": 72,
   "metadata": {},
   "outputs": [
    {
     "name": "stdout",
     "output_type": "stream",
     "text": [
      "\u001b[1m1/1\u001b[0m \u001b[32m━━━━━━━━━━━━━━━━━━━━\u001b[0m\u001b[37m\u001b[0m \u001b[1m0s\u001b[0m 41ms/step\n",
      "[[1.]]\n"
     ]
    },
    {
     "name": "stderr",
     "output_type": "stream",
     "text": [
      "c:\\Users\\raulg\\AppData\\Local\\Programs\\Python\\Python312\\Lib\\site-packages\\sklearn\\base.py:493: UserWarning: X does not have valid feature names, but StandardScaler was fitted with feature names\n",
      "  warnings.warn(\n"
     ]
    }
   ],
   "source": [
    "result = model.predict(scaler.transform([[1,1,1,1,10]])).round()\n",
    "print(result)"
   ]
  },
  {
   "cell_type": "code",
   "execution_count": 54,
   "metadata": {},
   "outputs": [
    {
     "data": {
      "text/plain": [
       "numpy.ndarray"
      ]
     },
     "execution_count": 54,
     "metadata": {},
     "output_type": "execute_result"
    }
   ],
   "source": [
    "type(x1_train)"
   ]
  }
 ],
 "metadata": {
  "kernelspec": {
   "display_name": "Python 3",
   "language": "python",
   "name": "python3"
  },
  "language_info": {
   "codemirror_mode": {
    "name": "ipython",
    "version": 3
   },
   "file_extension": ".py",
   "mimetype": "text/x-python",
   "name": "python",
   "nbconvert_exporter": "python",
   "pygments_lexer": "ipython3",
   "version": "3.12.5"
  }
 },
 "nbformat": 4,
 "nbformat_minor": 2
}
